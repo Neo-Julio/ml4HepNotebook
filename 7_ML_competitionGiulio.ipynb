{
  "cells": [
    {
      "cell_type": "markdown",
      "metadata": {
        "id": "view-in-github",
        "colab_type": "text"
      },
      "source": [
        "<a href=\"https://colab.research.google.com/github/Neo-Julio/ml4HepNotebook/blob/main/7_ML_competitionGiulio.ipynb\" target=\"_parent\"><img src=\"https://colab.research.google.com/assets/colab-badge.svg\" alt=\"Open In Colab\"/></a>"
      ]
    },
    {
      "cell_type": "markdown",
      "metadata": {
        "id": "Rr2zf-IiMJC5"
      },
      "source": [
        "# Higgs Boson Detection 2024\n",
        "*Searching for exotic particles in high-energy physics with machine learning*\n",
        "\n",
        "## Overview\n",
        "The goal of this competition is to classify events into two classes: events that produce the exotic Higgs Boson particle, and those that do not. Each event is a simulated particle collision represented by 28 features that describe the trajectories of decay particles. These are realistic simulations of particle collisions occuring in the ATLAS detector at the Large Hadron Collider at CERN, near Geneva, Switzerland.\n",
        "\n",
        "An analysis like this was used to discover the Higgs Boson in 2012; a machine learning classifier was trained on simulation and calibration data, then used to analyze real data from the experiment. Improved machine learning methods for this type of data could enable physicists to make new discoveries faster. It is thought that there are additional particles yet to be discovered, so more sensitive machine learning methods could help scientists discover new physics.\n",
        "\n",
        "## Dataset\n",
        "\n",
        "This data set is a sample from the HIGGS data set published with [Baldi, Sadowski, and Whiteson, Searching for Exotic Particles in High-Energy Physics with Deep Learning](https://www.nature.com/articles/ncomms5308) and available [here](https://archive.ics.uci.edu/ml/datasets/HIGGS)."
      ]
    },
    {
      "cell_type": "code",
      "execution_count": 1,
      "metadata": {
        "id": "dGEZHtEXOllz"
      },
      "outputs": [],
      "source": [
        "%%bash\n",
        "mkdir -p data"
      ]
    },
    {
      "cell_type": "code",
      "execution_count": 2,
      "metadata": {
        "colab": {
          "base_uri": "https://localhost:8080/"
        },
        "id": "AWklNxUsMEFB",
        "outputId": "3efddfa6-7dd0-4491-ecb7-85cc7ea8d726"
      },
      "outputs": [
        {
          "output_type": "stream",
          "name": "stdout",
          "text": [
            "higgs.zip               [            <=>     ]   2.62G  4.74MB/s    in 4m 42s  \n"
          ]
        }
      ],
      "source": [
        "!wget \"https://archive.ics.uci.edu/static/public/280/higgs.zip\" -P data -q --show-progress"
      ]
    },
    {
      "cell_type": "code",
      "execution_count": 3,
      "metadata": {
        "colab": {
          "base_uri": "https://localhost:8080/"
        },
        "id": "_Ym_TsmMav-w",
        "outputId": "10f3f29c-92f1-4227-d6a4-4b1b4bb0632b"
      },
      "outputs": [
        {
          "output_type": "stream",
          "name": "stdout",
          "text": [
            "Archive:  data/higgs.zip\n",
            "  inflating: HIGGS.csv.gz            \n"
          ]
        }
      ],
      "source": [
        "!unzip data/higgs.zip"
      ]
    },
    {
      "cell_type": "code",
      "execution_count": 4,
      "metadata": {
        "id": "PDKhiXAJbgbw"
      },
      "outputs": [],
      "source": [
        "!gzip -d HIGGS.csv.gz"
      ]
    },
    {
      "cell_type": "code",
      "execution_count": 5,
      "metadata": {
        "colab": {
          "base_uri": "https://localhost:8080/"
        },
        "id": "RyF5WgHAc39E",
        "outputId": "7216aad3-c3a2-4f74-a1ba-30788effd873"
      },
      "outputs": [
        {
          "output_type": "stream",
          "name": "stdout",
          "text": [
            "data  HIGGS.csv  sample_data\n"
          ]
        }
      ],
      "source": [
        "!ls"
      ]
    },
    {
      "cell_type": "code",
      "execution_count": 6,
      "metadata": {
        "id": "Gipbwl-TNLfy"
      },
      "outputs": [],
      "source": [
        "#Load the dataset using pandas and numpy\n",
        "\n",
        "import pandas as pd\n",
        "import numpy as np\n",
        "from sklearn.model_selection import train_test_split"
      ]
    },
    {
      "cell_type": "code",
      "execution_count": 19,
      "metadata": {
        "id": "9V33jlWrfmUb"
      },
      "outputs": [],
      "source": [
        "column_names = ['lable', 'lep_pt', 'lep_eta', 'lep_phi', 'MET', 'MET_phi', \\\n",
        "                'jet1_pt', 'jet1_eta', 'jet1_phi', 'jet1_btag', \\\n",
        "                'jet2_pt', 'jet2_eta', 'jet2_phi', 'jet2_btag', \\\n",
        "                'jet3_pt', 'jet3_eta', 'jet3_phi', 'jet3_btag', \\\n",
        "                'jet4_pt', 'jet4_eta', 'jet4_phi', 'jet4_btag', \\\n",
        "                'm_jj', 'm_jjj', 'm_lv', 'm_jlv', 'm_bb', 'm_wbb', 'm_wwbb']"
      ]
    },
    {
      "cell_type": "code",
      "execution_count": 8,
      "metadata": {
        "id": "zlwpb3gRaq3V"
      },
      "outputs": [],
      "source": [
        "df = pd.read_csv('HIGGS.csv', header=None, nrows=200000)\n",
        "df.columns=column_names"
      ]
    },
    {
      "cell_type": "markdown",
      "source": [
        "Added some visualizations to understand the features distributions"
      ],
      "metadata": {
        "id": "XVszRAVH1Dyf"
      }
    },
    {
      "cell_type": "code",
      "execution_count": 20,
      "metadata": {
        "colab": {
          "base_uri": "https://localhost:8080/",
          "height": 236
        },
        "id": "Ktxxwj1NdA5Y",
        "outputId": "b86d04f8-2b8a-43d0-d19b-8c44c3cc9759"
      },
      "outputs": [
        {
          "output_type": "execute_result",
          "data": {
            "text/plain": [
              "   lable    lep_pt   lep_eta   lep_phi       MET   MET_phi   jet1_pt  \\\n",
              "0    1.0  0.869293 -0.635082  0.225690  0.327470 -0.689993  0.754202   \n",
              "1    1.0  0.907542  0.329147  0.359412  1.497970 -0.313010  1.095531   \n",
              "2    1.0  0.798835  1.470639 -1.635975  0.453773  0.425629  1.104875   \n",
              "3    0.0  1.344385 -0.876626  0.935913  1.992050  0.882454  1.786066   \n",
              "4    1.0  1.105009  0.321356  1.522401  0.882808 -1.205349  0.681466   \n",
              "\n",
              "   jet1_eta  jet1_phi  jet1_btag  ...  jet4_eta  jet4_phi  jet4_btag  \\\n",
              "0 -0.248573 -1.092064   0.000000  ... -0.010455 -0.045767   3.101961   \n",
              "1 -0.557525 -1.588230   2.173076  ... -1.138930 -0.000819   0.000000   \n",
              "2  1.282322  1.381664   0.000000  ...  1.128848  0.900461   0.000000   \n",
              "3 -1.646778 -0.942383   0.000000  ... -0.678379 -1.360356   0.000000   \n",
              "4 -1.070464 -0.921871   0.000000  ... -0.373566  0.113041   0.000000   \n",
              "\n",
              "       m_jj     m_jjj      m_lv     m_jlv      m_bb     m_wbb    m_wwbb  \n",
              "0  1.353760  0.979563  0.978076  0.920005  0.721657  0.988751  0.876678  \n",
              "1  0.302220  0.833048  0.985700  0.978098  0.779732  0.992356  0.798343  \n",
              "2  0.909753  1.108330  0.985692  0.951331  0.803252  0.865924  0.780118  \n",
              "3  0.946652  1.028704  0.998656  0.728281  0.869200  1.026736  0.957904  \n",
              "4  0.755856  1.361057  0.986610  0.838085  1.133295  0.872245  0.808487  \n",
              "\n",
              "[5 rows x 29 columns]"
            ],
            "text/html": [
              "\n",
              "  <div id=\"df-7fcbe586-0043-43bf-94f0-2b01580cb072\" class=\"colab-df-container\">\n",
              "    <div>\n",
              "<style scoped>\n",
              "    .dataframe tbody tr th:only-of-type {\n",
              "        vertical-align: middle;\n",
              "    }\n",
              "\n",
              "    .dataframe tbody tr th {\n",
              "        vertical-align: top;\n",
              "    }\n",
              "\n",
              "    .dataframe thead th {\n",
              "        text-align: right;\n",
              "    }\n",
              "</style>\n",
              "<table border=\"1\" class=\"dataframe\">\n",
              "  <thead>\n",
              "    <tr style=\"text-align: right;\">\n",
              "      <th></th>\n",
              "      <th>lable</th>\n",
              "      <th>lep_pt</th>\n",
              "      <th>lep_eta</th>\n",
              "      <th>lep_phi</th>\n",
              "      <th>MET</th>\n",
              "      <th>MET_phi</th>\n",
              "      <th>jet1_pt</th>\n",
              "      <th>jet1_eta</th>\n",
              "      <th>jet1_phi</th>\n",
              "      <th>jet1_btag</th>\n",
              "      <th>...</th>\n",
              "      <th>jet4_eta</th>\n",
              "      <th>jet4_phi</th>\n",
              "      <th>jet4_btag</th>\n",
              "      <th>m_jj</th>\n",
              "      <th>m_jjj</th>\n",
              "      <th>m_lv</th>\n",
              "      <th>m_jlv</th>\n",
              "      <th>m_bb</th>\n",
              "      <th>m_wbb</th>\n",
              "      <th>m_wwbb</th>\n",
              "    </tr>\n",
              "  </thead>\n",
              "  <tbody>\n",
              "    <tr>\n",
              "      <th>0</th>\n",
              "      <td>1.0</td>\n",
              "      <td>0.869293</td>\n",
              "      <td>-0.635082</td>\n",
              "      <td>0.225690</td>\n",
              "      <td>0.327470</td>\n",
              "      <td>-0.689993</td>\n",
              "      <td>0.754202</td>\n",
              "      <td>-0.248573</td>\n",
              "      <td>-1.092064</td>\n",
              "      <td>0.000000</td>\n",
              "      <td>...</td>\n",
              "      <td>-0.010455</td>\n",
              "      <td>-0.045767</td>\n",
              "      <td>3.101961</td>\n",
              "      <td>1.353760</td>\n",
              "      <td>0.979563</td>\n",
              "      <td>0.978076</td>\n",
              "      <td>0.920005</td>\n",
              "      <td>0.721657</td>\n",
              "      <td>0.988751</td>\n",
              "      <td>0.876678</td>\n",
              "    </tr>\n",
              "    <tr>\n",
              "      <th>1</th>\n",
              "      <td>1.0</td>\n",
              "      <td>0.907542</td>\n",
              "      <td>0.329147</td>\n",
              "      <td>0.359412</td>\n",
              "      <td>1.497970</td>\n",
              "      <td>-0.313010</td>\n",
              "      <td>1.095531</td>\n",
              "      <td>-0.557525</td>\n",
              "      <td>-1.588230</td>\n",
              "      <td>2.173076</td>\n",
              "      <td>...</td>\n",
              "      <td>-1.138930</td>\n",
              "      <td>-0.000819</td>\n",
              "      <td>0.000000</td>\n",
              "      <td>0.302220</td>\n",
              "      <td>0.833048</td>\n",
              "      <td>0.985700</td>\n",
              "      <td>0.978098</td>\n",
              "      <td>0.779732</td>\n",
              "      <td>0.992356</td>\n",
              "      <td>0.798343</td>\n",
              "    </tr>\n",
              "    <tr>\n",
              "      <th>2</th>\n",
              "      <td>1.0</td>\n",
              "      <td>0.798835</td>\n",
              "      <td>1.470639</td>\n",
              "      <td>-1.635975</td>\n",
              "      <td>0.453773</td>\n",
              "      <td>0.425629</td>\n",
              "      <td>1.104875</td>\n",
              "      <td>1.282322</td>\n",
              "      <td>1.381664</td>\n",
              "      <td>0.000000</td>\n",
              "      <td>...</td>\n",
              "      <td>1.128848</td>\n",
              "      <td>0.900461</td>\n",
              "      <td>0.000000</td>\n",
              "      <td>0.909753</td>\n",
              "      <td>1.108330</td>\n",
              "      <td>0.985692</td>\n",
              "      <td>0.951331</td>\n",
              "      <td>0.803252</td>\n",
              "      <td>0.865924</td>\n",
              "      <td>0.780118</td>\n",
              "    </tr>\n",
              "    <tr>\n",
              "      <th>3</th>\n",
              "      <td>0.0</td>\n",
              "      <td>1.344385</td>\n",
              "      <td>-0.876626</td>\n",
              "      <td>0.935913</td>\n",
              "      <td>1.992050</td>\n",
              "      <td>0.882454</td>\n",
              "      <td>1.786066</td>\n",
              "      <td>-1.646778</td>\n",
              "      <td>-0.942383</td>\n",
              "      <td>0.000000</td>\n",
              "      <td>...</td>\n",
              "      <td>-0.678379</td>\n",
              "      <td>-1.360356</td>\n",
              "      <td>0.000000</td>\n",
              "      <td>0.946652</td>\n",
              "      <td>1.028704</td>\n",
              "      <td>0.998656</td>\n",
              "      <td>0.728281</td>\n",
              "      <td>0.869200</td>\n",
              "      <td>1.026736</td>\n",
              "      <td>0.957904</td>\n",
              "    </tr>\n",
              "    <tr>\n",
              "      <th>4</th>\n",
              "      <td>1.0</td>\n",
              "      <td>1.105009</td>\n",
              "      <td>0.321356</td>\n",
              "      <td>1.522401</td>\n",
              "      <td>0.882808</td>\n",
              "      <td>-1.205349</td>\n",
              "      <td>0.681466</td>\n",
              "      <td>-1.070464</td>\n",
              "      <td>-0.921871</td>\n",
              "      <td>0.000000</td>\n",
              "      <td>...</td>\n",
              "      <td>-0.373566</td>\n",
              "      <td>0.113041</td>\n",
              "      <td>0.000000</td>\n",
              "      <td>0.755856</td>\n",
              "      <td>1.361057</td>\n",
              "      <td>0.986610</td>\n",
              "      <td>0.838085</td>\n",
              "      <td>1.133295</td>\n",
              "      <td>0.872245</td>\n",
              "      <td>0.808487</td>\n",
              "    </tr>\n",
              "  </tbody>\n",
              "</table>\n",
              "<p>5 rows × 29 columns</p>\n",
              "</div>\n",
              "    <div class=\"colab-df-buttons\">\n",
              "\n",
              "  <div class=\"colab-df-container\">\n",
              "    <button class=\"colab-df-convert\" onclick=\"convertToInteractive('df-7fcbe586-0043-43bf-94f0-2b01580cb072')\"\n",
              "            title=\"Convert this dataframe to an interactive table.\"\n",
              "            style=\"display:none;\">\n",
              "\n",
              "  <svg xmlns=\"http://www.w3.org/2000/svg\" height=\"24px\" viewBox=\"0 -960 960 960\">\n",
              "    <path d=\"M120-120v-720h720v720H120Zm60-500h600v-160H180v160Zm220 220h160v-160H400v160Zm0 220h160v-160H400v160ZM180-400h160v-160H180v160Zm440 0h160v-160H620v160ZM180-180h160v-160H180v160Zm440 0h160v-160H620v160Z\"/>\n",
              "  </svg>\n",
              "    </button>\n",
              "\n",
              "  <style>\n",
              "    .colab-df-container {\n",
              "      display:flex;\n",
              "      gap: 12px;\n",
              "    }\n",
              "\n",
              "    .colab-df-convert {\n",
              "      background-color: #E8F0FE;\n",
              "      border: none;\n",
              "      border-radius: 50%;\n",
              "      cursor: pointer;\n",
              "      display: none;\n",
              "      fill: #1967D2;\n",
              "      height: 32px;\n",
              "      padding: 0 0 0 0;\n",
              "      width: 32px;\n",
              "    }\n",
              "\n",
              "    .colab-df-convert:hover {\n",
              "      background-color: #E2EBFA;\n",
              "      box-shadow: 0px 1px 2px rgba(60, 64, 67, 0.3), 0px 1px 3px 1px rgba(60, 64, 67, 0.15);\n",
              "      fill: #174EA6;\n",
              "    }\n",
              "\n",
              "    .colab-df-buttons div {\n",
              "      margin-bottom: 4px;\n",
              "    }\n",
              "\n",
              "    [theme=dark] .colab-df-convert {\n",
              "      background-color: #3B4455;\n",
              "      fill: #D2E3FC;\n",
              "    }\n",
              "\n",
              "    [theme=dark] .colab-df-convert:hover {\n",
              "      background-color: #434B5C;\n",
              "      box-shadow: 0px 1px 3px 1px rgba(0, 0, 0, 0.15);\n",
              "      filter: drop-shadow(0px 1px 2px rgba(0, 0, 0, 0.3));\n",
              "      fill: #FFFFFF;\n",
              "    }\n",
              "  </style>\n",
              "\n",
              "    <script>\n",
              "      const buttonEl =\n",
              "        document.querySelector('#df-7fcbe586-0043-43bf-94f0-2b01580cb072 button.colab-df-convert');\n",
              "      buttonEl.style.display =\n",
              "        google.colab.kernel.accessAllowed ? 'block' : 'none';\n",
              "\n",
              "      async function convertToInteractive(key) {\n",
              "        const element = document.querySelector('#df-7fcbe586-0043-43bf-94f0-2b01580cb072');\n",
              "        const dataTable =\n",
              "          await google.colab.kernel.invokeFunction('convertToInteractive',\n",
              "                                                    [key], {});\n",
              "        if (!dataTable) return;\n",
              "\n",
              "        const docLinkHtml = 'Like what you see? Visit the ' +\n",
              "          '<a target=\"_blank\" href=https://colab.research.google.com/notebooks/data_table.ipynb>data table notebook</a>'\n",
              "          + ' to learn more about interactive tables.';\n",
              "        element.innerHTML = '';\n",
              "        dataTable['output_type'] = 'display_data';\n",
              "        await google.colab.output.renderOutput(dataTable, element);\n",
              "        const docLink = document.createElement('div');\n",
              "        docLink.innerHTML = docLinkHtml;\n",
              "        element.appendChild(docLink);\n",
              "      }\n",
              "    </script>\n",
              "  </div>\n",
              "\n",
              "\n",
              "    <div id=\"df-441710b5-e7c9-4094-8ec4-c1cf74bce7d2\">\n",
              "      <button class=\"colab-df-quickchart\" onclick=\"quickchart('df-441710b5-e7c9-4094-8ec4-c1cf74bce7d2')\"\n",
              "                title=\"Suggest charts\"\n",
              "                style=\"display:none;\">\n",
              "\n",
              "<svg xmlns=\"http://www.w3.org/2000/svg\" height=\"24px\"viewBox=\"0 0 24 24\"\n",
              "     width=\"24px\">\n",
              "    <g>\n",
              "        <path d=\"M19 3H5c-1.1 0-2 .9-2 2v14c0 1.1.9 2 2 2h14c1.1 0 2-.9 2-2V5c0-1.1-.9-2-2-2zM9 17H7v-7h2v7zm4 0h-2V7h2v10zm4 0h-2v-4h2v4z\"/>\n",
              "    </g>\n",
              "</svg>\n",
              "      </button>\n",
              "\n",
              "<style>\n",
              "  .colab-df-quickchart {\n",
              "      --bg-color: #E8F0FE;\n",
              "      --fill-color: #1967D2;\n",
              "      --hover-bg-color: #E2EBFA;\n",
              "      --hover-fill-color: #174EA6;\n",
              "      --disabled-fill-color: #AAA;\n",
              "      --disabled-bg-color: #DDD;\n",
              "  }\n",
              "\n",
              "  [theme=dark] .colab-df-quickchart {\n",
              "      --bg-color: #3B4455;\n",
              "      --fill-color: #D2E3FC;\n",
              "      --hover-bg-color: #434B5C;\n",
              "      --hover-fill-color: #FFFFFF;\n",
              "      --disabled-bg-color: #3B4455;\n",
              "      --disabled-fill-color: #666;\n",
              "  }\n",
              "\n",
              "  .colab-df-quickchart {\n",
              "    background-color: var(--bg-color);\n",
              "    border: none;\n",
              "    border-radius: 50%;\n",
              "    cursor: pointer;\n",
              "    display: none;\n",
              "    fill: var(--fill-color);\n",
              "    height: 32px;\n",
              "    padding: 0;\n",
              "    width: 32px;\n",
              "  }\n",
              "\n",
              "  .colab-df-quickchart:hover {\n",
              "    background-color: var(--hover-bg-color);\n",
              "    box-shadow: 0 1px 2px rgba(60, 64, 67, 0.3), 0 1px 3px 1px rgba(60, 64, 67, 0.15);\n",
              "    fill: var(--button-hover-fill-color);\n",
              "  }\n",
              "\n",
              "  .colab-df-quickchart-complete:disabled,\n",
              "  .colab-df-quickchart-complete:disabled:hover {\n",
              "    background-color: var(--disabled-bg-color);\n",
              "    fill: var(--disabled-fill-color);\n",
              "    box-shadow: none;\n",
              "  }\n",
              "\n",
              "  .colab-df-spinner {\n",
              "    border: 2px solid var(--fill-color);\n",
              "    border-color: transparent;\n",
              "    border-bottom-color: var(--fill-color);\n",
              "    animation:\n",
              "      spin 1s steps(1) infinite;\n",
              "  }\n",
              "\n",
              "  @keyframes spin {\n",
              "    0% {\n",
              "      border-color: transparent;\n",
              "      border-bottom-color: var(--fill-color);\n",
              "      border-left-color: var(--fill-color);\n",
              "    }\n",
              "    20% {\n",
              "      border-color: transparent;\n",
              "      border-left-color: var(--fill-color);\n",
              "      border-top-color: var(--fill-color);\n",
              "    }\n",
              "    30% {\n",
              "      border-color: transparent;\n",
              "      border-left-color: var(--fill-color);\n",
              "      border-top-color: var(--fill-color);\n",
              "      border-right-color: var(--fill-color);\n",
              "    }\n",
              "    40% {\n",
              "      border-color: transparent;\n",
              "      border-right-color: var(--fill-color);\n",
              "      border-top-color: var(--fill-color);\n",
              "    }\n",
              "    60% {\n",
              "      border-color: transparent;\n",
              "      border-right-color: var(--fill-color);\n",
              "    }\n",
              "    80% {\n",
              "      border-color: transparent;\n",
              "      border-right-color: var(--fill-color);\n",
              "      border-bottom-color: var(--fill-color);\n",
              "    }\n",
              "    90% {\n",
              "      border-color: transparent;\n",
              "      border-bottom-color: var(--fill-color);\n",
              "    }\n",
              "  }\n",
              "</style>\n",
              "\n",
              "      <script>\n",
              "        async function quickchart(key) {\n",
              "          const quickchartButtonEl =\n",
              "            document.querySelector('#' + key + ' button');\n",
              "          quickchartButtonEl.disabled = true;  // To prevent multiple clicks.\n",
              "          quickchartButtonEl.classList.add('colab-df-spinner');\n",
              "          try {\n",
              "            const charts = await google.colab.kernel.invokeFunction(\n",
              "                'suggestCharts', [key], {});\n",
              "          } catch (error) {\n",
              "            console.error('Error during call to suggestCharts:', error);\n",
              "          }\n",
              "          quickchartButtonEl.classList.remove('colab-df-spinner');\n",
              "          quickchartButtonEl.classList.add('colab-df-quickchart-complete');\n",
              "        }\n",
              "        (() => {\n",
              "          let quickchartButtonEl =\n",
              "            document.querySelector('#df-441710b5-e7c9-4094-8ec4-c1cf74bce7d2 button');\n",
              "          quickchartButtonEl.style.display =\n",
              "            google.colab.kernel.accessAllowed ? 'block' : 'none';\n",
              "        })();\n",
              "      </script>\n",
              "    </div>\n",
              "\n",
              "    </div>\n",
              "  </div>\n"
            ],
            "application/vnd.google.colaboratory.intrinsic+json": {
              "type": "dataframe",
              "variable_name": "df"
            }
          },
          "metadata": {},
          "execution_count": 20
        }
      ],
      "source": [
        "df.head()"
      ]
    },
    {
      "cell_type": "code",
      "execution_count": 21,
      "metadata": {
        "id": "rkPUiiQidVJP"
      },
      "outputs": [],
      "source": [
        "features_low = ['lep_pt', 'lep_eta', 'lep_phi', 'MET', 'MET_phi', \\\n",
        "                'jet1_pt', 'jet1_eta', 'jet1_phi', 'jet1_btag', \\\n",
        "                'jet2_pt', 'jet2_eta', 'jet2_phi', 'jet2_btag', \\\n",
        "                'jet3_pt', 'jet3_eta', 'jet3_phi', 'jet3_btag', \\\n",
        "                'jet4_pt', 'jet4_eta', 'jet4_phi', 'jet4_btag']\n",
        "\n",
        "features_high = ['m_jj', 'm_jjj', 'm_lv', 'm_jlv', 'm_bb', 'm_wbb', 'm_wwbb']\n",
        "\n",
        "features = ['lep_pt', 'lep_eta', 'lep_phi', 'MET', 'MET_phi', \\\n",
        "            'jet1_pt', 'jet1_eta', 'jet1_phi', 'jet1_btag', \\\n",
        "            'jet2_pt', 'jet2_eta', 'jet2_phi', 'jet2_btag', \\\n",
        "            'jet3_pt', 'jet3_eta', 'jet3_phi', 'jet3_btag', \\\n",
        "            'jet4_pt', 'jet4_eta', 'jet4_phi', 'jet4_btag', \\\n",
        "            'm_jj', 'm_jjj', 'm_lv', 'm_jlv', 'm_bb', 'm_wbb', 'm_wwbb']"
      ]
    },
    {
      "cell_type": "markdown",
      "source": [
        "Added a further splitting for validation and a scaler to normalize the data to a gaussian centered in 0"
      ],
      "metadata": {
        "id": "XMBLwbLm1Nmr"
      }
    },
    {
      "cell_type": "code",
      "execution_count": 22,
      "metadata": {
        "id": "SUYY-9gzR0fI"
      },
      "outputs": [],
      "source": [
        "#split in training test and validation + scaler to a gaussian centered in 0 and\n",
        "#sigma = 1\n",
        "\n",
        "y = df['lable'].values\n",
        "X = df[features]\n",
        "\n",
        "X_train, X_test, y_train, y_test = train_test_split(X, y, test_size=0.3, random_state=0)\n",
        "\n",
        "from sklearn.preprocessing import StandardScaler\n",
        "\n",
        "scaler = StandardScaler().fit(X_train)\n",
        "X_train_val = scaler.transform(X_train)\n",
        "X_test = scaler.transform(X_test)\n",
        "\n",
        "X_train, X_val, y_train, y_val = train_test_split(\n",
        "    X_train_val, y_train, test_size=0.2, random_state=7\n",
        ")"
      ]
    },
    {
      "cell_type": "code",
      "execution_count": 23,
      "metadata": {
        "colab": {
          "base_uri": "https://localhost:8080/",
          "height": 447
        },
        "id": "x78nLxxcir22",
        "outputId": "97917944-eb52-405e-8e3b-4b1443a6bf50"
      },
      "outputs": [
        {
          "output_type": "execute_result",
          "data": {
            "text/plain": [
              "<matplotlib.legend.Legend at 0x7805a3d20f10>"
            ]
          },
          "metadata": {},
          "execution_count": 23
        },
        {
          "output_type": "display_data",
          "data": {
            "text/plain": [
              "<Figure size 640x480 with 1 Axes>"
            ],
            "image/png": "[encoded data removed]"
          },
          "metadata": {}
        }
      ],
      "source": [
        "import matplotlib.pyplot as plt\n",
        "\n",
        "#plot a few features\n",
        "var_name = 'm_bb'\n",
        "ax = df[df['lable']==0].plot.hist(column=[var_name], bins=100, range=(0, 5), histtype='step', density=True)\n",
        "#ax.set_yscale('log')\n",
        "df[df['lable']==1].plot.hist(column=[var_name], bins=100, range=(0, 5), histtype='step', density = True, ax=ax)\n",
        "ax.legend(labels=[var_name+' bkg', var_name+' sig'])"
      ]
    },
    {
      "cell_type": "code",
      "execution_count": 13,
      "metadata": {
        "id": "JawI4ivTBCQ0"
      },
      "outputs": [],
      "source": [
        "#find a classification algorithm to solve this classification problem. THe metrics is the area under the ROC with the test set\n",
        "# DNN with a sigmoid o BDT\n"
      ]
    },
    {
      "cell_type": "code",
      "execution_count": 14,
      "metadata": {
        "id": "EDpQRHbOlClY"
      },
      "outputs": [],
      "source": [
        "# Enjoy!"
      ]
    },
    {
      "cell_type": "code",
      "execution_count": 14,
      "metadata": {
        "id": "fII8KFu_KGpM"
      },
      "outputs": [],
      "source": []
    },
    {
      "cell_type": "markdown",
      "metadata": {
        "id": "xiW5Kgf9KIGe"
      },
      "source": [
        " l have used a  use a deep feedforward neural network for binary classification. The architecture processes 28 input features and passes them through three hidden layers before reaching a final output neuron. Batch normalization is applied after each hidden linear transformation to stabilize and accelerate training. The non-linear activation function used is ReLU, and a dropout regularization layer is introduced to prevent overfitting. The output layer consists of a single neuron with a sigmoid activation function to produce probability outputs between 0 and 1.\n",
        "\n"
      ]
    },
    {
      "cell_type": "code",
      "source": [
        "# Define the model: 28 → 32 → 16 → 8 → 1 with relu activations. Added a small dropout to prevent overfitting https://docs.pytorch.org/docs/stable/generated/torch.nn.Dropout.html\n",
        "import torch\n",
        "import torch.nn as nn\n",
        "\n",
        "# Define the model: 28 → 16 → 8 → 1 with activations\n",
        "model = nn.Sequential(\n",
        "    nn.Linear(28, 32),\n",
        "    nn.ReLU(),\n",
        "    nn.Dropout(0.05),\n",
        "    nn.Linear(32, 16),\n",
        "    nn.ReLU(),\n",
        "    nn.Linear(16, 8),\n",
        "    nn.ReLU(),\n",
        "    nn.Linear(8, 1),\n",
        "    nn.Sigmoid()  # For binary classification\n",
        ")\n",
        "\n",
        "\n",
        "# Define loss function: Binary Cross-Entropy\n",
        "loss_fn = nn.BCELoss()\n",
        "\n",
        "#played with the parameters of the ADAM otpimizer.\n",
        "# Define optimizer: Adam\n",
        "learning_rate = 0.00005\n",
        "#optimizer = torch.optim.Adam(model.parameters(), lr=learning_rate)\n",
        "optimizer = torch.optim.Adam(\n",
        "    model.parameters(),\n",
        "   learning_rate,\n",
        "    betas=(0.8, 0.98),\n",
        "    eps=1e-8,\n",
        "    weight_decay=1e-4\n",
        ")\n",
        "\n",
        "#added a scheduler to leduce the learning rate of a factor 0.5 if the\n",
        "#val_loss doesn't improve for 10 epochs\n",
        "scheduler = torch.optim.lr_scheduler.ReduceLROnPlateau(\n",
        "    optimizer,\n",
        "    mode='min',         # we want to minimize val_loss\n",
        "    factor=0.5,         # reduce LR by half\n",
        "    patience=10,        # wait 10 epochs of no improvement\n",
        "\n",
        ")"
      ],
      "metadata": {
        "id": "1JaTPRQXS691"
      },
      "execution_count": 32,
      "outputs": []
    },
    {
      "cell_type": "code",
      "execution_count": 33,
      "metadata": {
        "id": "LxuESFTvOtqb"
      },
      "outputs": [],
      "source": [
        "# Get validation data ready\n",
        "val_data = torch.from_numpy(X_val).float()\n",
        "val_label = torch.from_numpy(y_val).float()"
      ]
    },
    {
      "cell_type": "code",
      "source": [
        "from tqdm import tqdm  # for progress bar while training\n",
        "# Tracking loss values\n",
        "losses, val_losses = [], []\n",
        "batch_size = 1024\n",
        "#batch_size = 512\n",
        "min_loss = float('inf')\n",
        "stale_epochs = 0\n",
        "#n_epochs = 500\n",
        "for t in tqdm(range(600)):\n",
        "    model.train()\n",
        "   # batch_loss = []\n",
        "    batch_loss, val_batch_loss = [], []\n",
        "    # Shuffle training data at each epoch (optional but recommended)\n",
        "    indices = np.arange(X_train.shape[0])\n",
        "    np.random.shuffle(indices)\n",
        "    X_train = X_train[indices]\n",
        "    y_train = y_train[indices]\n",
        "\n",
        "    # Mini-batch training loop\n",
        "    for b in range(0, X_train.shape[0], batch_size):\n",
        "        X_batch = X_train[b : b + batch_size]\n",
        "        Y_batch = y_train[b : b + batch_size]\n",
        "\n",
        "        x = torch.from_numpy(X_batch).float()\n",
        "        y = torch.from_numpy(Y_batch).float().view(-1, 1)\n",
        "\n",
        "        # Forward pass\n",
        "        y_pred = model(x)\n",
        "        loss = loss_fn(y_pred, y)\n",
        "        batch_loss.append(loss.item())\n",
        "\n",
        "        # Backward and optimize\n",
        "        optimizer.zero_grad()\n",
        "        loss.backward()\n",
        "        optimizer.step()\n",
        "\n",
        "    # Store average training loss for the epoch\n",
        "    losses.append(np.mean(batch_loss))\n",
        "\n",
        "    # Validation loss (once per epoch)\n",
        "    model.eval()\n",
        "    with torch.no_grad():\n",
        "        output = model(val_data)\n",
        "        val_y = val_label.view_as(output)\n",
        "        val_loss = loss_fn(output, val_y)\n",
        "        val_losses.append(val_loss.item())\n",
        "\n",
        "   #scheduler to adjust the learning rate during training.\n",
        "    scheduler.step(val_loss.item())\n",
        "    # Early stopping\n",
        "    if val_loss.item() < min_loss:\n",
        "        min_loss = val_loss.item()\n",
        "        stale_epochs = 0\n",
        "        torch.save(model.state_dict(), \"pytorch_model_best.pth\")\n",
        "    else:\n",
        "        stale_epochs += 1\n",
        "\n",
        "    if stale_epochs > 20:\n",
        "        print(f\"Early stopping at epoch {t} (val_loss didn't improve for 20 epochs)\")\n",
        "        break"
      ],
      "metadata": {
        "colab": {
          "base_uri": "https://localhost:8080/"
        },
        "id": "033tCT8bdvOd",
        "outputId": "31e2e2c3-a699-499b-c77e-12e1bb0ab85e"
      },
      "execution_count": 34,
      "outputs": [
        {
          "output_type": "stream",
          "name": "stderr",
          "text": [
            "100%|██████████| 600/600 [03:49<00:00,  2.61it/s]\n"
          ]
        }
      ]
    },
    {
      "cell_type": "code",
      "execution_count": 35,
      "metadata": {
        "tags": [],
        "id": "y6dn-gKBGoY9",
        "outputId": "00421811-d6c3-4fad-d89b-6926e0f08fab",
        "colab": {
          "base_uri": "https://localhost:8080/",
          "height": 850
        }
      },
      "outputs": [
        {
          "output_type": "display_data",
          "data": {
            "text/plain": [
              "<Figure size 1500x1000 with 2 Axes>"
            ],
            "image/png": "[encoded data removed]"
          },
          "metadata": {}
        }
      ],
      "source": [
        "import matplotlib.pyplot as plt\n",
        "\n",
        "%matplotlib inline\n",
        "\n",
        "with torch.no_grad():\n",
        "    # plot loss vs epoch\n",
        "    plt.figure(figsize=(15, 10))\n",
        "    ax = plt.subplot(2, 2, 1)\n",
        "    ax.plot(losses, label=\"loss\")\n",
        "    ax.plot(val_losses, label=\"val_loss\")\n",
        "    ax.legend(loc=\"upper right\")\n",
        "    ax.set_xlabel(\"epoch\")\n",
        "    ax.set_ylabel(\"loss\")\n",
        "\n",
        "    # Plot ROC\n",
        "    X_test_in = torch.from_numpy(X_test).float()\n",
        "    y_predict = model(X_test_in)\n",
        "    y_predict = y_predict.numpy().ravel()\n",
        "    from sklearn.metrics import roc_curve, auc\n",
        "\n",
        "    fpr, tpr, thresholds = roc_curve(y_test, y_predict)\n",
        "    roc_auc = auc(fpr, tpr)\n",
        "    ax = plt.subplot(2, 2, 3)\n",
        "    ax.plot(fpr, tpr, lw=2, color=\"cyan\", label=\"auc = %.3f\" % (roc_auc))\n",
        "    ax.plot([0, 1], [0, 1], linestyle=\"--\", lw=2, color=\"k\", label=\"random chance\")\n",
        "    ax.set_xlim([0, 1.0])\n",
        "    ax.set_ylim([0, 1.0])\n",
        "    ax.set_xlabel(\"false positive rate\")\n",
        "    ax.set_ylabel(\"true positive rate\")\n",
        "    ax.set_title(\"receiver operating curve\")\n",
        "    ax.legend(loc=\"lower right\")\n",
        "    plt.show()"
      ]
    }
  ],
  "metadata": {
    "colab": {
      "provenance": [],
      "include_colab_link": true
    },
    "kernelspec": {
      "display_name": "Python 3",
      "name": "python3"
    },
    "language_info": {
      "name": "python"
    }
  },
  "nbformat": 4,
  "nbformat_minor": 0
}