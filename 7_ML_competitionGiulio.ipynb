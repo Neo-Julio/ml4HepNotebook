{
  "cells": [
    {
      "cell_type": "markdown",
      "metadata": {
        "id": "view-in-github",
        "colab_type": "text"
      },
      "source": [
        "<a href=\"https://colab.research.google.com/github/Neo-Julio/ml4HepNotebook/blob/main/7_ML_competitionGiulio.ipynb\" target=\"_parent\"><img src=\"https://colab.research.google.com/assets/colab-badge.svg\" alt=\"Open In Colab\"/></a>"
      ]
    },
    {
      "cell_type": "markdown",
      "metadata": {
        "id": "Rr2zf-IiMJC5"
      },
      "source": [
        "# Higgs Boson Detection 2024\n",
        "*Searching for exotic particles in high-energy physics with machine learning*\n",
        "\n",
        "## Overview\n",
        "The goal of this competition is to classify events into two classes: events that produce the exotic Higgs Boson particle, and those that do not. Each event is a simulated particle collision represented by 28 features that describe the trajectories of decay particles. These are realistic simulations of particle collisions occuring in the ATLAS detector at the Large Hadron Collider at CERN, near Geneva, Switzerland.\n",
        "\n",
        "An analysis like this was used to discover the Higgs Boson in 2012; a machine learning classifier was trained on simulation and calibration data, then used to analyze real data from the experiment. Improved machine learning methods for this type of data could enable physicists to make new discoveries faster. It is thought that there are additional particles yet to be discovered, so more sensitive machine learning methods could help scientists discover new physics.\n",
        "\n",
        "## Dataset\n",
        "\n",
        "This data set is a sample from the HIGGS data set published with [Baldi, Sadowski, and Whiteson, Searching for Exotic Particles in High-Energy Physics with Deep Learning](https://www.nature.com/articles/ncomms5308) and available [here](https://archive.ics.uci.edu/ml/datasets/HIGGS)."
      ]
    },
    {
      "cell_type": "code",
      "execution_count": 1,
      "metadata": {
        "id": "dGEZHtEXOllz"
      },
      "outputs": [],
      "source": [
        "%%bash\n",
        "mkdir -p data"
      ]
    },
    {
      "cell_type": "code",
      "execution_count": 2,
      "metadata": {
        "colab": {
          "base_uri": "https://localhost:8080/"
        },
        "id": "AWklNxUsMEFB",
        "outputId": "453236f4-0bf5-437f-f2f0-7e9fc080fd27"
      },
      "outputs": [
        {
          "output_type": "stream",
          "name": "stdout",
          "text": [
            "higgs.zip               [        <=>         ]   2.62G  67.5MB/s    in 81s     \n"
          ]
        }
      ],
      "source": [
        "!wget \"https://archive.ics.uci.edu/static/public/280/higgs.zip\" -P data -q --show-progress"
      ]
    },
    {
      "cell_type": "code",
      "execution_count": 3,
      "metadata": {
        "colab": {
          "base_uri": "https://localhost:8080/"
        },
        "id": "_Ym_TsmMav-w",
        "outputId": "d589e4a0-12db-4da0-df9b-06b3dc997a8a"
      },
      "outputs": [
        {
          "output_type": "stream",
          "name": "stdout",
          "text": [
            "Archive:  data/higgs.zip\n",
            "  inflating: HIGGS.csv.gz            \n"
          ]
        }
      ],
      "source": [
        "!unzip data/higgs.zip"
      ]
    },
    {
      "cell_type": "code",
      "execution_count": 4,
      "metadata": {
        "id": "PDKhiXAJbgbw"
      },
      "outputs": [],
      "source": [
        "!gzip -d HIGGS.csv.gz"
      ]
    },
    {
      "cell_type": "code",
      "execution_count": 5,
      "metadata": {
        "colab": {
          "base_uri": "https://localhost:8080/"
        },
        "id": "RyF5WgHAc39E",
        "outputId": "cddf13aa-9e7e-476e-86fd-6f3476efeb73"
      },
      "outputs": [
        {
          "output_type": "stream",
          "name": "stdout",
          "text": [
            "data  HIGGS.csv  sample_data\n"
          ]
        }
      ],
      "source": [
        "!ls"
      ]
    },
    {
      "cell_type": "code",
      "execution_count": 6,
      "metadata": {
        "id": "Gipbwl-TNLfy"
      },
      "outputs": [],
      "source": [
        "#Load the dataset using pandas and numpy\n",
        "\n",
        "import pandas as pd\n",
        "import numpy as np\n",
        "from sklearn.model_selection import train_test_split"
      ]
    },
    {
      "cell_type": "code",
      "execution_count": 7,
      "metadata": {
        "id": "9V33jlWrfmUb"
      },
      "outputs": [],
      "source": [
        "column_names = ['lable', 'lep_pt', 'lep_eta', 'lep_phi', 'MET', 'MET_phi', \\\n",
        "                'jet1_pt', 'jet1_eta', 'jet1_phi', 'jet1_btag', \\\n",
        "                'jet2_pt', 'jet2_eta', 'jet2_phi', 'jet2_btag', \\\n",
        "                'jet3_pt', 'jet3_eta', 'jet3_phi', 'jet3_btag', \\\n",
        "                'jet4_pt', 'jet4_eta', 'jet4_phi', 'jet4_btag', \\\n",
        "                'm_jj', 'm_jjj', 'm_lv', 'm_jlv', 'm_bb', 'm_wbb', 'm_wwbb']"
      ]
    },
    {
      "cell_type": "code",
      "execution_count": 8,
      "metadata": {
        "id": "zlwpb3gRaq3V"
      },
      "outputs": [],
      "source": [
        "df = pd.read_csv('HIGGS.csv', header=None, nrows=200000)\n",
        "df.columns=column_names"
      ]
    },
    {
      "cell_type": "code",
      "execution_count": 9,
      "metadata": {
        "colab": {
          "base_uri": "https://localhost:8080/",
          "height": 236
        },
        "id": "Ktxxwj1NdA5Y",
        "outputId": "b715ad7a-39eb-4e05-c701-d8deef1cc5f6"
      },
      "outputs": [
        {
          "output_type": "execute_result",
          "data": {
            "text/plain": [
              "   lable    lep_pt   lep_eta   lep_phi       MET   MET_phi   jet1_pt  \\\n",
              "0    1.0  0.869293 -0.635082  0.225690  0.327470 -0.689993  0.754202   \n",
              "1    1.0  0.907542  0.329147  0.359412  1.497970 -0.313010  1.095531   \n",
              "2    1.0  0.798835  1.470639 -1.635975  0.453773  0.425629  1.104875   \n",
              "3    0.0  1.344385 -0.876626  0.935913  1.992050  0.882454  1.786066   \n",
              "4    1.0  1.105009  0.321356  1.522401  0.882808 -1.205349  0.681466   \n",
              "\n",
              "   jet1_eta  jet1_phi  jet1_btag  ...  jet4_eta  jet4_phi  jet4_btag  \\\n",
              "0 -0.248573 -1.092064   0.000000  ... -0.010455 -0.045767   3.101961   \n",
              "1 -0.557525 -1.588230   2.173076  ... -1.138930 -0.000819   0.000000   \n",
              "2  1.282322  1.381664   0.000000  ...  1.128848  0.900461   0.000000   \n",
              "3 -1.646778 -0.942383   0.000000  ... -0.678379 -1.360356   0.000000   \n",
              "4 -1.070464 -0.921871   0.000000  ... -0.373566  0.113041   0.000000   \n",
              "\n",
              "       m_jj     m_jjj      m_lv     m_jlv      m_bb     m_wbb    m_wwbb  \n",
              "0  1.353760  0.979563  0.978076  0.920005  0.721657  0.988751  0.876678  \n",
              "1  0.302220  0.833048  0.985700  0.978098  0.779732  0.992356  0.798343  \n",
              "2  0.909753  1.108330  0.985692  0.951331  0.803252  0.865924  0.780118  \n",
              "3  0.946652  1.028704  0.998656  0.728281  0.869200  1.026736  0.957904  \n",
              "4  0.755856  1.361057  0.986610  0.838085  1.133295  0.872245  0.808487  \n",
              "\n",
              "[5 rows x 29 columns]"
            ],
            "text/html": [
              "\n",
              "  <div id=\"df-5e1413dc-dc70-45dc-bb9d-3bd894634ce6\" class=\"colab-df-container\">\n",
              "    <div>\n",
              "<style scoped>\n",
              "    .dataframe tbody tr th:only-of-type {\n",
              "        vertical-align: middle;\n",
              "    }\n",
              "\n",
              "    .dataframe tbody tr th {\n",
              "        vertical-align: top;\n",
              "    }\n",
              "\n",
              "    .dataframe thead th {\n",
              "        text-align: right;\n",
              "    }\n",
              "</style>\n",
              "<table border=\"1\" class=\"dataframe\">\n",
              "  <thead>\n",
              "    <tr style=\"text-align: right;\">\n",
              "      <th></th>\n",
              "      <th>lable</th>\n",
              "      <th>lep_pt</th>\n",
              "      <th>lep_eta</th>\n",
              "      <th>lep_phi</th>\n",
              "      <th>MET</th>\n",
              "      <th>MET_phi</th>\n",
              "      <th>jet1_pt</th>\n",
              "      <th>jet1_eta</th>\n",
              "      <th>jet1_phi</th>\n",
              "      <th>jet1_btag</th>\n",
              "      <th>...</th>\n",
              "      <th>jet4_eta</th>\n",
              "      <th>jet4_phi</th>\n",
              "      <th>jet4_btag</th>\n",
              "      <th>m_jj</th>\n",
              "      <th>m_jjj</th>\n",
              "      <th>m_lv</th>\n",
              "      <th>m_jlv</th>\n",
              "      <th>m_bb</th>\n",
              "      <th>m_wbb</th>\n",
              "      <th>m_wwbb</th>\n",
              "    </tr>\n",
              "  </thead>\n",
              "  <tbody>\n",
              "    <tr>\n",
              "      <th>0</th>\n",
              "      <td>1.0</td>\n",
              "      <td>0.869293</td>\n",
              "      <td>-0.635082</td>\n",
              "      <td>0.225690</td>\n",
              "      <td>0.327470</td>\n",
              "      <td>-0.689993</td>\n",
              "      <td>0.754202</td>\n",
              "      <td>-0.248573</td>\n",
              "      <td>-1.092064</td>\n",
              "      <td>0.000000</td>\n",
              "      <td>...</td>\n",
              "      <td>-0.010455</td>\n",
              "      <td>-0.045767</td>\n",
              "      <td>3.101961</td>\n",
              "      <td>1.353760</td>\n",
              "      <td>0.979563</td>\n",
              "      <td>0.978076</td>\n",
              "      <td>0.920005</td>\n",
              "      <td>0.721657</td>\n",
              "      <td>0.988751</td>\n",
              "      <td>0.876678</td>\n",
              "    </tr>\n",
              "    <tr>\n",
              "      <th>1</th>\n",
              "      <td>1.0</td>\n",
              "      <td>0.907542</td>\n",
              "      <td>0.329147</td>\n",
              "      <td>0.359412</td>\n",
              "      <td>1.497970</td>\n",
              "      <td>-0.313010</td>\n",
              "      <td>1.095531</td>\n",
              "      <td>-0.557525</td>\n",
              "      <td>-1.588230</td>\n",
              "      <td>2.173076</td>\n",
              "      <td>...</td>\n",
              "      <td>-1.138930</td>\n",
              "      <td>-0.000819</td>\n",
              "      <td>0.000000</td>\n",
              "      <td>0.302220</td>\n",
              "      <td>0.833048</td>\n",
              "      <td>0.985700</td>\n",
              "      <td>0.978098</td>\n",
              "      <td>0.779732</td>\n",
              "      <td>0.992356</td>\n",
              "      <td>0.798343</td>\n",
              "    </tr>\n",
              "    <tr>\n",
              "      <th>2</th>\n",
              "      <td>1.0</td>\n",
              "      <td>0.798835</td>\n",
              "      <td>1.470639</td>\n",
              "      <td>-1.635975</td>\n",
              "      <td>0.453773</td>\n",
              "      <td>0.425629</td>\n",
              "      <td>1.104875</td>\n",
              "      <td>1.282322</td>\n",
              "      <td>1.381664</td>\n",
              "      <td>0.000000</td>\n",
              "      <td>...</td>\n",
              "      <td>1.128848</td>\n",
              "      <td>0.900461</td>\n",
              "      <td>0.000000</td>\n",
              "      <td>0.909753</td>\n",
              "      <td>1.108330</td>\n",
              "      <td>0.985692</td>\n",
              "      <td>0.951331</td>\n",
              "      <td>0.803252</td>\n",
              "      <td>0.865924</td>\n",
              "      <td>0.780118</td>\n",
              "    </tr>\n",
              "    <tr>\n",
              "      <th>3</th>\n",
              "      <td>0.0</td>\n",
              "      <td>1.344385</td>\n",
              "      <td>-0.876626</td>\n",
              "      <td>0.935913</td>\n",
              "      <td>1.992050</td>\n",
              "      <td>0.882454</td>\n",
              "      <td>1.786066</td>\n",
              "      <td>-1.646778</td>\n",
              "      <td>-0.942383</td>\n",
              "      <td>0.000000</td>\n",
              "      <td>...</td>\n",
              "      <td>-0.678379</td>\n",
              "      <td>-1.360356</td>\n",
              "      <td>0.000000</td>\n",
              "      <td>0.946652</td>\n",
              "      <td>1.028704</td>\n",
              "      <td>0.998656</td>\n",
              "      <td>0.728281</td>\n",
              "      <td>0.869200</td>\n",
              "      <td>1.026736</td>\n",
              "      <td>0.957904</td>\n",
              "    </tr>\n",
              "    <tr>\n",
              "      <th>4</th>\n",
              "      <td>1.0</td>\n",
              "      <td>1.105009</td>\n",
              "      <td>0.321356</td>\n",
              "      <td>1.522401</td>\n",
              "      <td>0.882808</td>\n",
              "      <td>-1.205349</td>\n",
              "      <td>0.681466</td>\n",
              "      <td>-1.070464</td>\n",
              "      <td>-0.921871</td>\n",
              "      <td>0.000000</td>\n",
              "      <td>...</td>\n",
              "      <td>-0.373566</td>\n",
              "      <td>0.113041</td>\n",
              "      <td>0.000000</td>\n",
              "      <td>0.755856</td>\n",
              "      <td>1.361057</td>\n",
              "      <td>0.986610</td>\n",
              "      <td>0.838085</td>\n",
              "      <td>1.133295</td>\n",
              "      <td>0.872245</td>\n",
              "      <td>0.808487</td>\n",
              "    </tr>\n",
              "  </tbody>\n",
              "</table>\n",
              "<p>5 rows × 29 columns</p>\n",
              "</div>\n",
              "    <div class=\"colab-df-buttons\">\n",
              "\n",
              "  <div class=\"colab-df-container\">\n",
              "    <button class=\"colab-df-convert\" onclick=\"convertToInteractive('df-5e1413dc-dc70-45dc-bb9d-3bd894634ce6')\"\n",
              "            title=\"Convert this dataframe to an interactive table.\"\n",
              "            style=\"display:none;\">\n",
              "\n",
              "  <svg xmlns=\"http://www.w3.org/2000/svg\" height=\"24px\" viewBox=\"0 -960 960 960\">\n",
              "    <path d=\"M120-120v-720h720v720H120Zm60-500h600v-160H180v160Zm220 220h160v-160H400v160Zm0 220h160v-160H400v160ZM180-400h160v-160H180v160Zm440 0h160v-160H620v160ZM180-180h160v-160H180v160Zm440 0h160v-160H620v160Z\"/>\n",
              "  </svg>\n",
              "    </button>\n",
              "\n",
              "  <style>\n",
              "    .colab-df-container {\n",
              "      display:flex;\n",
              "      gap: 12px;\n",
              "    }\n",
              "\n",
              "    .colab-df-convert {\n",
              "      background-color: #E8F0FE;\n",
              "      border: none;\n",
              "      border-radius: 50%;\n",
              "      cursor: pointer;\n",
              "      display: none;\n",
              "      fill: #1967D2;\n",
              "      height: 32px;\n",
              "      padding: 0 0 0 0;\n",
              "      width: 32px;\n",
              "    }\n",
              "\n",
              "    .colab-df-convert:hover {\n",
              "      background-color: #E2EBFA;\n",
              "      box-shadow: 0px 1px 2px rgba(60, 64, 67, 0.3), 0px 1px 3px 1px rgba(60, 64, 67, 0.15);\n",
              "      fill: #174EA6;\n",
              "    }\n",
              "\n",
              "    .colab-df-buttons div {\n",
              "      margin-bottom: 4px;\n",
              "    }\n",
              "\n",
              "    [theme=dark] .colab-df-convert {\n",
              "      background-color: #3B4455;\n",
              "      fill: #D2E3FC;\n",
              "    }\n",
              "\n",
              "    [theme=dark] .colab-df-convert:hover {\n",
              "      background-color: #434B5C;\n",
              "      box-shadow: 0px 1px 3px 1px rgba(0, 0, 0, 0.15);\n",
              "      filter: drop-shadow(0px 1px 2px rgba(0, 0, 0, 0.3));\n",
              "      fill: #FFFFFF;\n",
              "    }\n",
              "  </style>\n",
              "\n",
              "    <script>\n",
              "      const buttonEl =\n",
              "        document.querySelector('#df-5e1413dc-dc70-45dc-bb9d-3bd894634ce6 button.colab-df-convert');\n",
              "      buttonEl.style.display =\n",
              "        google.colab.kernel.accessAllowed ? 'block' : 'none';\n",
              "\n",
              "      async function convertToInteractive(key) {\n",
              "        const element = document.querySelector('#df-5e1413dc-dc70-45dc-bb9d-3bd894634ce6');\n",
              "        const dataTable =\n",
              "          await google.colab.kernel.invokeFunction('convertToInteractive',\n",
              "                                                    [key], {});\n",
              "        if (!dataTable) return;\n",
              "\n",
              "        const docLinkHtml = 'Like what you see? Visit the ' +\n",
              "          '<a target=\"_blank\" href=https://colab.research.google.com/notebooks/data_table.ipynb>data table notebook</a>'\n",
              "          + ' to learn more about interactive tables.';\n",
              "        element.innerHTML = '';\n",
              "        dataTable['output_type'] = 'display_data';\n",
              "        await google.colab.output.renderOutput(dataTable, element);\n",
              "        const docLink = document.createElement('div');\n",
              "        docLink.innerHTML = docLinkHtml;\n",
              "        element.appendChild(docLink);\n",
              "      }\n",
              "    </script>\n",
              "  </div>\n",
              "\n",
              "\n",
              "    <div id=\"df-37163a27-4d2b-49fa-ac10-dfe50355ba5a\">\n",
              "      <button class=\"colab-df-quickchart\" onclick=\"quickchart('df-37163a27-4d2b-49fa-ac10-dfe50355ba5a')\"\n",
              "                title=\"Suggest charts\"\n",
              "                style=\"display:none;\">\n",
              "\n",
              "<svg xmlns=\"http://www.w3.org/2000/svg\" height=\"24px\"viewBox=\"0 0 24 24\"\n",
              "     width=\"24px\">\n",
              "    <g>\n",
              "        <path d=\"M19 3H5c-1.1 0-2 .9-2 2v14c0 1.1.9 2 2 2h14c1.1 0 2-.9 2-2V5c0-1.1-.9-2-2-2zM9 17H7v-7h2v7zm4 0h-2V7h2v10zm4 0h-2v-4h2v4z\"/>\n",
              "    </g>\n",
              "</svg>\n",
              "      </button>\n",
              "\n",
              "<style>\n",
              "  .colab-df-quickchart {\n",
              "      --bg-color: #E8F0FE;\n",
              "      --fill-color: #1967D2;\n",
              "      --hover-bg-color: #E2EBFA;\n",
              "      --hover-fill-color: #174EA6;\n",
              "      --disabled-fill-color: #AAA;\n",
              "      --disabled-bg-color: #DDD;\n",
              "  }\n",
              "\n",
              "  [theme=dark] .colab-df-quickchart {\n",
              "      --bg-color: #3B4455;\n",
              "      --fill-color: #D2E3FC;\n",
              "      --hover-bg-color: #434B5C;\n",
              "      --hover-fill-color: #FFFFFF;\n",
              "      --disabled-bg-color: #3B4455;\n",
              "      --disabled-fill-color: #666;\n",
              "  }\n",
              "\n",
              "  .colab-df-quickchart {\n",
              "    background-color: var(--bg-color);\n",
              "    border: none;\n",
              "    border-radius: 50%;\n",
              "    cursor: pointer;\n",
              "    display: none;\n",
              "    fill: var(--fill-color);\n",
              "    height: 32px;\n",
              "    padding: 0;\n",
              "    width: 32px;\n",
              "  }\n",
              "\n",
              "  .colab-df-quickchart:hover {\n",
              "    background-color: var(--hover-bg-color);\n",
              "    box-shadow: 0 1px 2px rgba(60, 64, 67, 0.3), 0 1px 3px 1px rgba(60, 64, 67, 0.15);\n",
              "    fill: var(--button-hover-fill-color);\n",
              "  }\n",
              "\n",
              "  .colab-df-quickchart-complete:disabled,\n",
              "  .colab-df-quickchart-complete:disabled:hover {\n",
              "    background-color: var(--disabled-bg-color);\n",
              "    fill: var(--disabled-fill-color);\n",
              "    box-shadow: none;\n",
              "  }\n",
              "\n",
              "  .colab-df-spinner {\n",
              "    border: 2px solid var(--fill-color);\n",
              "    border-color: transparent;\n",
              "    border-bottom-color: var(--fill-color);\n",
              "    animation:\n",
              "      spin 1s steps(1) infinite;\n",
              "  }\n",
              "\n",
              "  @keyframes spin {\n",
              "    0% {\n",
              "      border-color: transparent;\n",
              "      border-bottom-color: var(--fill-color);\n",
              "      border-left-color: var(--fill-color);\n",
              "    }\n",
              "    20% {\n",
              "      border-color: transparent;\n",
              "      border-left-color: var(--fill-color);\n",
              "      border-top-color: var(--fill-color);\n",
              "    }\n",
              "    30% {\n",
              "      border-color: transparent;\n",
              "      border-left-color: var(--fill-color);\n",
              "      border-top-color: var(--fill-color);\n",
              "      border-right-color: var(--fill-color);\n",
              "    }\n",
              "    40% {\n",
              "      border-color: transparent;\n",
              "      border-right-color: var(--fill-color);\n",
              "      border-top-color: var(--fill-color);\n",
              "    }\n",
              "    60% {\n",
              "      border-color: transparent;\n",
              "      border-right-color: var(--fill-color);\n",
              "    }\n",
              "    80% {\n",
              "      border-color: transparent;\n",
              "      border-right-color: var(--fill-color);\n",
              "      border-bottom-color: var(--fill-color);\n",
              "    }\n",
              "    90% {\n",
              "      border-color: transparent;\n",
              "      border-bottom-color: var(--fill-color);\n",
              "    }\n",
              "  }\n",
              "</style>\n",
              "\n",
              "      <script>\n",
              "        async function quickchart(key) {\n",
              "          const quickchartButtonEl =\n",
              "            document.querySelector('#' + key + ' button');\n",
              "          quickchartButtonEl.disabled = true;  // To prevent multiple clicks.\n",
              "          quickchartButtonEl.classList.add('colab-df-spinner');\n",
              "          try {\n",
              "            const charts = await google.colab.kernel.invokeFunction(\n",
              "                'suggestCharts', [key], {});\n",
              "          } catch (error) {\n",
              "            console.error('Error during call to suggestCharts:', error);\n",
              "          }\n",
              "          quickchartButtonEl.classList.remove('colab-df-spinner');\n",
              "          quickchartButtonEl.classList.add('colab-df-quickchart-complete');\n",
              "        }\n",
              "        (() => {\n",
              "          let quickchartButtonEl =\n",
              "            document.querySelector('#df-37163a27-4d2b-49fa-ac10-dfe50355ba5a button');\n",
              "          quickchartButtonEl.style.display =\n",
              "            google.colab.kernel.accessAllowed ? 'block' : 'none';\n",
              "        })();\n",
              "      </script>\n",
              "    </div>\n",
              "\n",
              "    </div>\n",
              "  </div>\n"
            ],
            "application/vnd.google.colaboratory.intrinsic+json": {
              "type": "dataframe",
              "variable_name": "df"
            }
          },
          "metadata": {},
          "execution_count": 9
        }
      ],
      "source": [
        "df.head()"
      ]
    },
    {
      "cell_type": "code",
      "execution_count": 10,
      "metadata": {
        "id": "rkPUiiQidVJP"
      },
      "outputs": [],
      "source": [
        "features_low = ['lep_pt', 'lep_eta', 'lep_phi', 'MET', 'MET_phi', \\\n",
        "                'jet1_pt', 'jet1_eta', 'jet1_phi', 'jet1_btag', \\\n",
        "                'jet2_pt', 'jet2_eta', 'jet2_phi', 'jet2_btag', \\\n",
        "                'jet3_pt', 'jet3_eta', 'jet3_phi', 'jet3_btag', \\\n",
        "                'jet4_pt', 'jet4_eta', 'jet4_phi', 'jet4_btag']\n",
        "\n",
        "features_high = ['m_jj', 'm_jjj', 'm_lv', 'm_jlv', 'm_bb', 'm_wbb', 'm_wwbb']\n",
        "\n",
        "features = ['lep_pt', 'lep_eta', 'lep_phi', 'MET', 'MET_phi', \\\n",
        "            'jet1_pt', 'jet1_eta', 'jet1_phi', 'jet1_btag', \\\n",
        "            'jet2_pt', 'jet2_eta', 'jet2_phi', 'jet2_btag', \\\n",
        "            'jet3_pt', 'jet3_eta', 'jet3_phi', 'jet3_btag', \\\n",
        "            'jet4_pt', 'jet4_eta', 'jet4_phi', 'jet4_btag', \\\n",
        "            'm_jj', 'm_jjj', 'm_lv', 'm_jlv', 'm_bb', 'm_wbb', 'm_wwbb']"
      ]
    },
    {
      "cell_type": "code",
      "execution_count": 11,
      "metadata": {
        "id": "Os5TqGHQg6PR"
      },
      "outputs": [],
      "source": [
        "#don't run! Pevious split\n",
        "#y = df['lable'].values\n",
        "#X = df[[col for col in features]]\n",
        "#X_train, X_test, y_train, y_test = train_test_split(X, y, test_size=.3, random_state=0)\n"
      ]
    },
    {
      "cell_type": "code",
      "execution_count": 12,
      "metadata": {
        "id": "SUYY-9gzR0fI"
      },
      "outputs": [],
      "source": [
        "#split in training test and validation + scaler to a gaussian centered in 0 and\n",
        "#sigma = 1\n",
        "\n",
        "y = df['lable'].values\n",
        "X = df[features]\n",
        "\n",
        "X_train, X_test, y_train, y_test = train_test_split(X, y, test_size=0.3, random_state=0)\n",
        "\n",
        "from sklearn.preprocessing import StandardScaler\n",
        "\n",
        "scaler = StandardScaler().fit(X_train)\n",
        "X_train_val = scaler.transform(X_train)\n",
        "X_test = scaler.transform(X_test)\n",
        "\n",
        "X_train, X_val, y_train, y_val = train_test_split(\n",
        "    X_train_val, y_train, test_size=0.2, random_state=7\n",
        ")"
      ]
    },
    {
      "cell_type": "code",
      "execution_count": 13,
      "metadata": {
        "colab": {
          "base_uri": "https://localhost:8080/",
          "height": 447
        },
        "id": "x78nLxxcir22",
        "outputId": "26d74d15-43ff-4af4-88bc-f3ceac71d978"
      },
      "outputs": [
        {
          "output_type": "execute_result",
          "data": {
            "text/plain": [
              "<matplotlib.legend.Legend at 0x7dfc3d421950>"
            ]
          },
          "metadata": {},
          "execution_count": 13
        },
        {
          "output_type": "display_data",
          "data": {
            "text/plain": [
              "<Figure size 640x480 with 1 Axes>"
            ],
            "image/png": "[encoded data removed]"
          },
          "metadata": {}
        }
      ],
      "source": [
        "import matplotlib.pyplot as plt\n",
        "\n",
        "#plot a few features\n",
        "var_name = 'm_wwbb'\n",
        "ax = df[df['lable']==0].plot.hist(column=[var_name], bins=100, range=(0, 5), histtype='step', density=True)\n",
        "#ax.set_yscale('log')\n",
        "df[df['lable']==1].plot.hist(column=[var_name], bins=100, range=(0, 5), histtype='step', density = True, ax=ax)\n",
        "ax.legend(labels=[var_name+' bkg', var_name+' sig'])"
      ]
    },
    {
      "cell_type": "code",
      "execution_count": 14,
      "metadata": {
        "id": "JawI4ivTBCQ0"
      },
      "outputs": [],
      "source": [
        "#find a classification algorithm to solve this classification problem. THe metrics is the area under the ROC with the test set\n",
        "# DNN with a sigmoid o BDT\n"
      ]
    },
    {
      "cell_type": "code",
      "execution_count": 15,
      "metadata": {
        "id": "EDpQRHbOlClY"
      },
      "outputs": [],
      "source": [
        "# Enjoy!"
      ]
    },
    {
      "cell_type": "code",
      "execution_count": 15,
      "metadata": {
        "id": "fII8KFu_KGpM"
      },
      "outputs": [],
      "source": []
    },
    {
      "cell_type": "markdown",
      "metadata": {
        "id": "xiW5Kgf9KIGe"
      },
      "source": [
        " A dense NN layer. We'll start with a dense (fully-connected) NN layer. Our model will have a single fully-connected hidden layer with the same number of neurons as input variables. The weights are initialized using a small Gaussian random number. We will switch between linear and tanh activation functions for the hidden layer. The output layer contains a single neuron in order to make predictions. It uses the sigmoid activation function in order to produce a probability output in the range of 0 to 1."
      ]
    },
    {
      "cell_type": "code",
      "execution_count": 16,
      "metadata": {
        "colab": {
          "base_uri": "https://localhost:8080/",
          "height": 53
        },
        "id": "UyV6BOIFKeYy",
        "outputId": "4cdf4df8-0c40-4615-fa02-7432ff3520e7"
      },
      "outputs": [
        {
          "output_type": "execute_result",
          "data": {
            "text/plain": [
              "'\\n\\n#Linear + Sigmoid\\nmodel = torch.nn.Sequential(torch.nn.Linear(28, 1), torch.nn.Sigmoid())\\n\\n# Use Binary Cross Entropy as our loss function.\\nloss_fn = torch.nn.BCELoss()\\n\\n# Optimize the model parameters using the Adam optimizer.\\nlearning_rate = 0.001\\noptimizer = torch.optim.Adam(model.parameters(), lr=learning_rate)\\n'"
            ],
            "application/vnd.google.colaboratory.intrinsic+json": {
              "type": "string"
            }
          },
          "metadata": {},
          "execution_count": 16
        }
      ],
      "source": [
        "#model building\n",
        "\"\"\"\n",
        "\n",
        "#Linear + Sigmoid\n",
        "model = torch.nn.Sequential(torch.nn.Linear(28, 1), torch.nn.Sigmoid())\n",
        "\n",
        "# Use Binary Cross Entropy as our loss function.\n",
        "loss_fn = torch.nn.BCELoss()\n",
        "\n",
        "# Optimize the model parameters using the Adam optimizer.\n",
        "learning_rate = 0.001\n",
        "optimizer = torch.optim.Adam(model.parameters(), lr=learning_rate)\n",
        "\"\"\""
      ]
    },
    {
      "cell_type": "code",
      "source": [
        "# Define the model: 28 → 16 → 8 → 1 with activations\n",
        "import torch\n",
        "import torch.nn as nn\n",
        "\n",
        "# Define the model: 28 → 16 → 8 → 1 with activations\n",
        "model = nn.Sequential(\n",
        "    nn.Linear(28, 64),\n",
        "    nn.ReLU(),\n",
        "    nn.Linear(64, 32),\n",
        "    nn.ReLU(),\n",
        "    nn.Linear(32, 16),\n",
        "    nn.ReLU(),\n",
        "    nn.Linear(16, 8),\n",
        "    nn.ReLU(),\n",
        "    nn.Linear(8, 1),\n",
        "    nn.Sigmoid()  # For binary classification\n",
        ")\n",
        "\n",
        "\"\"\"\n",
        "model = nn.Sequential(\n",
        "    nn.Linear(28, 64),\n",
        "    nn.ReLU(),\n",
        " #   nn.Dropout(0.3),           # 30% dropout\n",
        "\n",
        "    nn.Linear(64, 32),\n",
        "    nn.ReLU(),\n",
        " #   nn.Dropout(0.3),\n",
        "\n",
        "    nn.Linear(32, 16),\n",
        "    nn.ReLU(),\n",
        "  #  nn.Dropout(0.2),\n",
        "\n",
        "    nn.Linear(16, 1),\n",
        "    nn.Sigmoid()\n",
        ")\n",
        "\"\"\"\n",
        "\n",
        "# Define loss function: Binary Cross-Entropy\n",
        "loss_fn = nn.BCELoss()\n",
        "\n",
        "# Define optimizer: Adam\n",
        "learning_rate = 0.00005\n",
        "optimizer = torch.optim.Adam(model.parameters(), lr=learning_rate)"
      ],
      "metadata": {
        "id": "1JaTPRQXS691"
      },
      "execution_count": 33,
      "outputs": []
    },
    {
      "cell_type": "code",
      "execution_count": 34,
      "metadata": {
        "id": "LxuESFTvOtqb"
      },
      "outputs": [],
      "source": [
        "# Get validation data ready\n",
        "val_data = torch.from_numpy(X_val).float()\n",
        "val_label = torch.from_numpy(y_val).float()"
      ]
    },
    {
      "cell_type": "code",
      "execution_count": 35,
      "metadata": {
        "id": "H8AGyT1TGoY8",
        "outputId": "19507d80-44e8-48f3-f116-7c7b3a04bfba",
        "colab": {
          "base_uri": "https://localhost:8080/",
          "height": 105
        }
      },
      "outputs": [
        {
          "output_type": "execute_result",
          "data": {
            "text/plain": [
              "'\\nfrom tqdm import tqdm  # for progress bar while training\\n\\nlosses, val_losses = [], []\\nmin_loss, stale_epochs = 100.0, 0\\n\\n# 500 epochs.\\nbatch_size = 1024\\nfor t in tqdm(range(500)):\\n    batch_loss, val_batch_loss = [], []\\n\\n    for b in range(0, X_train.shape[0], batch_size):\\n        X_batch = X_train[b : b + batch_size]\\n        Y_batch = y_train[b : b + batch_size]\\n        x = torch.from_numpy(X_batch).float()\\n        y_b = torch.from_numpy(Y_batch).float()\\n        y_b = y_b.view(-1, 1)\\n\\n        # Forward pass: make a prediction for each x event in batch b.\\n        y_pred = model(x)\\n\\n        # Get the labels.\\n        label = y_b\\n        y = label.view_as(y_pred)  # reshape label data to the shape of y_pred\\n\\n        # Compute and print loss.\\n        loss = loss_fn(y_pred, y)\\n        batch_loss.append(loss.item())\\n\\n        # Before the backward pass, use the optimizer object to zero all of the\\n        # gradients for the variables it will update (which are the learnable\\n        # weights of the model). This is because by default, gradients are\\n        # accumulated in buffers( i.e, not overwritten) whenever .backward()\\n        # is called. Checkout docs of torch.autograd.backward for more details.\\n        optimizer.zero_grad()\\n\\n        # Backward pass: compute gradient of the loss with respect to model\\n        # parameters\\n        loss.backward()\\n\\n        # Calling the step function on an Optimizer makes an update to its\\n        # parameters\\n        optimizer.step()\\n\\n        # Let\\'s look at the validation set.\\n\\n        # Torch keeps track of each operation performed on a Tensor, so that it can take the gradient later.\\n        # We don\\'t need to store this information when looking at validation data, so turn it off with\\n        # torch.no_grad().\\n        model.eval()\\n        with torch.no_grad():\\n            # Forward pass on validation set.\\n            output = model(val_data)\\n\\n            # Get labels and compute loss again\\n            val_y = val_label.view_as(output)\\n            val_loss = loss_fn(output, val_y)\\n            val_batch_loss.append(val_loss.item())\\n\\n            # Monitor the loss function to prevent overtraining.\\n            if stale_epochs > 20:\\n                break\\n\\n            if val_loss.item() - min_loss < 0:\\n                min_loss = val_loss.item()\\n                stale_epochs = 0\\n                torch.save(model.state_dict(), \"pytorch_model_best.pth\")\\n            else:\\n                stale_epochs += 1\\n\\n    losses.append(np.mean(batch_loss))\\n    val_losses.append(np.mean(val_batch_loss))\\n\\n    '"
            ],
            "application/vnd.google.colaboratory.intrinsic+json": {
              "type": "string"
            }
          },
          "metadata": {},
          "execution_count": 35
        }
      ],
      "source": [
        "\"\"\"\n",
        "from tqdm import tqdm  # for progress bar while training\n",
        "\n",
        "losses, val_losses = [], []\n",
        "min_loss, stale_epochs = 100.0, 0\n",
        "\n",
        "# 500 epochs.\n",
        "batch_size = 1024\n",
        "for t in tqdm(range(500)):\n",
        "    batch_loss, val_batch_loss = [], []\n",
        "\n",
        "    for b in range(0, X_train.shape[0], batch_size):\n",
        "        X_batch = X_train[b : b + batch_size]\n",
        "        Y_batch = y_train[b : b + batch_size]\n",
        "        x = torch.from_numpy(X_batch).float()\n",
        "        y_b = torch.from_numpy(Y_batch).float()\n",
        "        y_b = y_b.view(-1, 1)\n",
        "\n",
        "        # Forward pass: make a prediction for each x event in batch b.\n",
        "        y_pred = model(x)\n",
        "\n",
        "        # Get the labels.\n",
        "        label = y_b\n",
        "        y = label.view_as(y_pred)  # reshape label data to the shape of y_pred\n",
        "\n",
        "        # Compute and print loss.\n",
        "        loss = loss_fn(y_pred, y)\n",
        "        batch_loss.append(loss.item())\n",
        "\n",
        "        # Before the backward pass, use the optimizer object to zero all of the\n",
        "        # gradients for the variables it will update (which are the learnable\n",
        "        # weights of the model). This is because by default, gradients are\n",
        "        # accumulated in buffers( i.e, not overwritten) whenever .backward()\n",
        "        # is called. Checkout docs of torch.autograd.backward for more details.\n",
        "        optimizer.zero_grad()\n",
        "\n",
        "        # Backward pass: compute gradient of the loss with respect to model\n",
        "        # parameters\n",
        "        loss.backward()\n",
        "\n",
        "        # Calling the step function on an Optimizer makes an update to its\n",
        "        # parameters\n",
        "        optimizer.step()\n",
        "\n",
        "        # Let's look at the validation set.\n",
        "\n",
        "        # Torch keeps track of each operation performed on a Tensor, so that it can take the gradient later.\n",
        "        # We don't need to store this information when looking at validation data, so turn it off with\n",
        "        # torch.no_grad().\n",
        "        model.eval()\n",
        "        with torch.no_grad():\n",
        "            # Forward pass on validation set.\n",
        "            output = model(val_data)\n",
        "\n",
        "            # Get labels and compute loss again\n",
        "            val_y = val_label.view_as(output)\n",
        "            val_loss = loss_fn(output, val_y)\n",
        "            val_batch_loss.append(val_loss.item())\n",
        "\n",
        "            # Monitor the loss function to prevent overtraining.\n",
        "            if stale_epochs > 20:\n",
        "                break\n",
        "\n",
        "            if val_loss.item() - min_loss < 0:\n",
        "                min_loss = val_loss.item()\n",
        "                stale_epochs = 0\n",
        "                torch.save(model.state_dict(), \"pytorch_model_best.pth\")\n",
        "            else:\n",
        "                stale_epochs += 1\n",
        "\n",
        "    losses.append(np.mean(batch_loss))\n",
        "    val_losses.append(np.mean(val_batch_loss))\n",
        "\n",
        "    \"\"\""
      ]
    },
    {
      "cell_type": "code",
      "source": [
        "from tqdm import tqdm  # for progress bar while training\n",
        "# Tracking loss values\n",
        "losses, val_losses = [], []\n",
        "batch_size = 1024\n",
        "min_loss = float('inf')\n",
        "stale_epochs = 0\n",
        "#n_epochs = 500\n",
        "for t in tqdm(range(500)):\n",
        "    model.train()\n",
        "   # batch_loss = []\n",
        "    batch_loss, val_batch_loss = [], []\n",
        "    # Shuffle training data at each epoch (optional but recommended)\n",
        "    indices = np.arange(X_train.shape[0])\n",
        "    np.random.shuffle(indices)\n",
        "    X_train = X_train[indices]\n",
        "    y_train = y_train[indices]\n",
        "\n",
        "    # Mini-batch training loop\n",
        "    for b in range(0, X_train.shape[0], batch_size):\n",
        "        X_batch = X_train[b : b + batch_size]\n",
        "        Y_batch = y_train[b : b + batch_size]\n",
        "\n",
        "        x = torch.from_numpy(X_batch).float()\n",
        "        y = torch.from_numpy(Y_batch).float().view(-1, 1)\n",
        "\n",
        "        # Forward pass\n",
        "        y_pred = model(x)\n",
        "        loss = loss_fn(y_pred, y)\n",
        "        batch_loss.append(loss.item())\n",
        "\n",
        "        # Backward and optimize\n",
        "        optimizer.zero_grad()\n",
        "        loss.backward()\n",
        "        optimizer.step()\n",
        "\n",
        "    # Store average training loss for the epoch\n",
        "    losses.append(np.mean(batch_loss))\n",
        "\n",
        "    # Validation loss (once per epoch)\n",
        "    model.eval()\n",
        "    with torch.no_grad():\n",
        "        output = model(val_data)\n",
        "        val_y = val_label.view_as(output)\n",
        "        val_loss = loss_fn(output, val_y)\n",
        "        val_losses.append(val_loss.item())\n",
        "\n",
        "    # Early stopping\n",
        "    if val_loss.item() < min_loss:\n",
        "        min_loss = val_loss.item()\n",
        "        stale_epochs = 0\n",
        "        torch.save(model.state_dict(), \"pytorch_model_best.pth\")\n",
        "    else:\n",
        "        stale_epochs += 1\n",
        "\n",
        "    if stale_epochs > 20:\n",
        "        print(f\"Early stopping at epoch {t} (val_loss didn't improve for 20 epochs)\")\n",
        "        break"
      ],
      "metadata": {
        "colab": {
          "base_uri": "https://localhost:8080/"
        },
        "id": "033tCT8bdvOd",
        "outputId": "f08803e8-811d-46e6-c4f1-9fb12aef26de"
      },
      "execution_count": 36,
      "outputs": [
        {
          "output_type": "stream",
          "name": "stderr",
          "text": [
            "100%|██████████| 500/500 [02:42<00:00,  3.08it/s]\n"
          ]
        }
      ]
    },
    {
      "cell_type": "markdown",
      "metadata": {
        "id": "EWSFCwNlUGHo"
      },
      "source": []
    },
    {
      "cell_type": "code",
      "execution_count": 37,
      "metadata": {
        "tags": [],
        "id": "y6dn-gKBGoY9",
        "outputId": "9a121b4c-deb1-4d9a-a8a6-c54b218b24a6",
        "colab": {
          "base_uri": "https://localhost:8080/",
          "height": 854
        }
      },
      "outputs": [
        {
          "output_type": "display_data",
          "data": {
            "text/plain": [
              "<Figure size 1500x1000 with 2 Axes>"
            ],
            "image/png": "[encoded data removed]"
          },
          "metadata": {}
        }
      ],
      "source": [
        "import matplotlib.pyplot as plt\n",
        "\n",
        "%matplotlib inline\n",
        "\n",
        "with torch.no_grad():\n",
        "    # plot loss vs epoch\n",
        "    plt.figure(figsize=(15, 10))\n",
        "    ax = plt.subplot(2, 2, 1)\n",
        "    ax.plot(losses, label=\"loss\")\n",
        "    ax.plot(val_losses, label=\"val_loss\")\n",
        "    ax.legend(loc=\"upper right\")\n",
        "    ax.set_xlabel(\"epoch\")\n",
        "    ax.set_ylabel(\"loss\")\n",
        "\n",
        "    # Plot ROC\n",
        "    X_test_in = torch.from_numpy(X_test).float()\n",
        "    y_predict = model(X_test_in)\n",
        "    from sklearn.metrics import roc_curve, auc\n",
        "\n",
        "    fpr, tpr, thresholds = roc_curve(y_test, y_predict)\n",
        "    roc_auc = auc(fpr, tpr)\n",
        "    ax = plt.subplot(2, 2, 3)\n",
        "    ax.plot(fpr, tpr, lw=2, color=\"cyan\", label=\"auc = %.3f\" % (roc_auc))\n",
        "    ax.plot([0, 1], [0, 1], linestyle=\"--\", lw=2, color=\"k\", label=\"random chance\")\n",
        "    ax.set_xlim([0, 1.0])\n",
        "    ax.set_ylim([0, 1.0])\n",
        "    ax.set_xlabel(\"false positive rate\")\n",
        "    ax.set_ylabel(\"true positive rate\")\n",
        "    ax.set_title(\"receiver operating curve\")\n",
        "    ax.legend(loc=\"lower right\")\n",
        "    plt.show()"
      ]
    },
    {
      "cell_type": "code",
      "execution_count": 39,
      "metadata": {
        "tags": [],
        "id": "CTyac8P7GoY9"
      },
      "outputs": [],
      "source": [
        "# Assume model expects 28 features\n",
        "n_features = X_train.shape[1]\n",
        "\n",
        "# Get mean of training data\n",
        "mean_vec = X_train.mean(axis=0)\n",
        "\n",
        "# Prepare 2D grid for feature i and j (e.g., feature 0 and 1)\n",
        "i, j = 1, 10  # feature indices you want to plot\n",
        "myXI, myYI = np.meshgrid(np.linspace(-2, 2, 200), np.linspace(-2, 2, 200))\n",
        "\n",
        "grid_points = np.tile(mean_vec, (myXI.size, 1))  # (40000, 28)\n",
        "grid_points[:, i] = myXI.ravel()\n",
        "grid_points[:, j] = myYI.ravel()\n",
        "\n",
        "# Predict\n",
        "with torch.no_grad():\n",
        "    myZI = model(torch.from_numpy(grid_points).float()).numpy()\n",
        "    myZI = myZI.reshape(myXI.shape)"
      ]
    },
    {
      "cell_type": "code",
      "execution_count": 40,
      "metadata": {
        "tags": [],
        "id": "cG81Gr9rGoY-",
        "outputId": "74179c6c-fbfd-41a4-8bae-1db4778370e5",
        "colab": {
          "base_uri": "https://localhost:8080/",
          "height": 452
        }
      },
      "outputs": [
        {
          "output_type": "execute_result",
          "data": {
            "text/plain": [
              "<matplotlib.colorbar.Colorbar at 0x7dfb5c3a6610>"
            ]
          },
          "metadata": {},
          "execution_count": 40
        },
        {
          "output_type": "display_data",
          "data": {
            "text/plain": [
              "<Figure size 640x480 with 2 Axes>"
            ],
            "image/png": "[encoded data removed]"
          },
          "metadata": {}
        }
      ],
      "source": [
        "plt.contourf(myXI, myYI, myZI, levels=50, cmap='RdBu')\n",
        "plt.colorbar()"
      ]
    }
  ],
  "metadata": {
    "colab": {
      "provenance": [],
      "gpuType": "T4",
      "include_colab_link": true
    },
    "kernelspec": {
      "display_name": "Python 3",
      "name": "python3"
    },
    "language_info": {
      "name": "python"
    },
    "accelerator": "GPU"
  },
  "nbformat": 4,
  "nbformat_minor": 0
}