{
  "nbformat": 4,
  "nbformat_minor": 0,
  "metadata": {
    "colab": {
      "provenance": [],
      "authorship_tag": "ABX9TyP6hbOZj4vmLKAmmcImxE9p",
      "include_colab_link": true
    },
    "kernelspec": {
      "name": "python3",
      "display_name": "Python 3"
    },
    "language_info": {
      "name": "python"
    }
  },
  "cells": [
    {
      "cell_type": "markdown",
      "metadata": {
        "id": "view-in-github",
        "colab_type": "text"
      },
      "source": [
        "<a href=\"https://colab.research.google.com/github/Neo-Julio/ml4HepNotebook/blob/main/PSDcnn.ipynb\" target=\"_parent\"><img src=\"https://colab.research.google.com/assets/colab-badge.svg\" alt=\"Open In Colab\"/></a>"
      ]
    },
    {
      "cell_type": "markdown",
      "source": [
        "This notebook builds a CNN for PSD with LIU dataset (Used by valerio at PoliTO) .\n",
        "Machine learning exam\n",
        "https://www.scidb.cn/en/detail?dataSetId=327d6ec5119b46cf84b61b2be0300471"
      ],
      "metadata": {
        "id": "5w8vuZvlYI8w"
      }
    },
    {
      "cell_type": "code",
      "execution_count": null,
      "metadata": {
        "colab": {
          "base_uri": "https://localhost:8080/"
        },
        "id": "SrFO7K6GYEBg",
        "outputId": "f8929e76-17dd-4dd3-9173-9294d9dbe8ea"
      },
      "outputs": [
        {
          "output_type": "stream",
          "name": "stdout",
          "text": [
            "Requirement already satisfied: numpy in /usr/local/lib/python3.11/dist-packages (2.0.2)\n",
            "Requirement already satisfied: scipy in /usr/local/lib/python3.11/dist-packages (1.16.0)\n",
            "Requirement already satisfied: matplotlib in /usr/local/lib/python3.11/dist-packages (3.10.0)\n",
            "Requirement already satisfied: scikit-learn in /usr/local/lib/python3.11/dist-packages (1.6.1)\n",
            "Requirement already satisfied: torch in /usr/local/lib/python3.11/dist-packages (2.6.0+cu124)\n",
            "Requirement already satisfied: torchvision in /usr/local/lib/python3.11/dist-packages (0.21.0+cu124)\n",
            "Requirement already satisfied: h5py in /usr/local/lib/python3.11/dist-packages (3.14.0)\n",
            "Requirement already satisfied: contourpy>=1.0.1 in /usr/local/lib/python3.11/dist-packages (from matplotlib) (1.3.2)\n",
            "Requirement already satisfied: cycler>=0.10 in /usr/local/lib/python3.11/dist-packages (from matplotlib) (0.12.1)\n",
            "Requirement already satisfied: fonttools>=4.22.0 in /usr/local/lib/python3.11/dist-packages (from matplotlib) (4.59.0)\n",
            "Requirement already satisfied: kiwisolver>=1.3.1 in /usr/local/lib/python3.11/dist-packages (from matplotlib) (1.4.8)\n",
            "Requirement already satisfied: packaging>=20.0 in /usr/local/lib/python3.11/dist-packages (from matplotlib) (25.0)\n",
            "Requirement already satisfied: pillow>=8 in /usr/local/lib/python3.11/dist-packages (from matplotlib) (11.3.0)\n",
            "Requirement already satisfied: pyparsing>=2.3.1 in /usr/local/lib/python3.11/dist-packages (from matplotlib) (3.2.3)\n",
            "Requirement already satisfied: python-dateutil>=2.7 in /usr/local/lib/python3.11/dist-packages (from matplotlib) (2.9.0.post0)\n",
            "Requirement already satisfied: joblib>=1.2.0 in /usr/local/lib/python3.11/dist-packages (from scikit-learn) (1.5.1)\n",
            "Requirement already satisfied: threadpoolctl>=3.1.0 in /usr/local/lib/python3.11/dist-packages (from scikit-learn) (3.6.0)\n",
            "Requirement already satisfied: filelock in /usr/local/lib/python3.11/dist-packages (from torch) (3.18.0)\n",
            "Requirement already satisfied: typing-extensions>=4.10.0 in /usr/local/lib/python3.11/dist-packages (from torch) (4.14.1)\n",
            "Requirement already satisfied: networkx in /usr/local/lib/python3.11/dist-packages (from torch) (3.5)\n",
            "Requirement already satisfied: jinja2 in /usr/local/lib/python3.11/dist-packages (from torch) (3.1.6)\n",
            "Requirement already satisfied: fsspec in /usr/local/lib/python3.11/dist-packages (from torch) (2025.3.0)\n",
            "Requirement already satisfied: nvidia-cuda-nvrtc-cu12==12.4.127 in /usr/local/lib/python3.11/dist-packages (from torch) (12.4.127)\n",
            "Requirement already satisfied: nvidia-cuda-runtime-cu12==12.4.127 in /usr/local/lib/python3.11/dist-packages (from torch) (12.4.127)\n",
            "Requirement already satisfied: nvidia-cuda-cupti-cu12==12.4.127 in /usr/local/lib/python3.11/dist-packages (from torch) (12.4.127)\n",
            "Requirement already satisfied: nvidia-cudnn-cu12==9.1.0.70 in /usr/local/lib/python3.11/dist-packages (from torch) (9.1.0.70)\n",
            "Requirement already satisfied: nvidia-cublas-cu12==12.4.5.8 in /usr/local/lib/python3.11/dist-packages (from torch) (12.4.5.8)\n",
            "Requirement already satisfied: nvidia-cufft-cu12==11.2.1.3 in /usr/local/lib/python3.11/dist-packages (from torch) (11.2.1.3)\n",
            "Requirement already satisfied: nvidia-curand-cu12==10.3.5.147 in /usr/local/lib/python3.11/dist-packages (from torch) (10.3.5.147)\n",
            "Requirement already satisfied: nvidia-cusolver-cu12==11.6.1.9 in /usr/local/lib/python3.11/dist-packages (from torch) (11.6.1.9)\n",
            "Requirement already satisfied: nvidia-cusparse-cu12==12.3.1.170 in /usr/local/lib/python3.11/dist-packages (from torch) (12.3.1.170)\n",
            "Requirement already satisfied: nvidia-cusparselt-cu12==0.6.2 in /usr/local/lib/python3.11/dist-packages (from torch) (0.6.2)\n",
            "Requirement already satisfied: nvidia-nccl-cu12==2.21.5 in /usr/local/lib/python3.11/dist-packages (from torch) (2.21.5)\n",
            "Requirement already satisfied: nvidia-nvtx-cu12==12.4.127 in /usr/local/lib/python3.11/dist-packages (from torch) (12.4.127)\n",
            "Requirement already satisfied: nvidia-nvjitlink-cu12==12.4.127 in /usr/local/lib/python3.11/dist-packages (from torch) (12.4.127)\n",
            "Requirement already satisfied: triton==3.2.0 in /usr/local/lib/python3.11/dist-packages (from torch) (3.2.0)\n",
            "Requirement already satisfied: sympy==1.13.1 in /usr/local/lib/python3.11/dist-packages (from torch) (1.13.1)\n",
            "Requirement already satisfied: mpmath<1.4,>=1.1.0 in /usr/local/lib/python3.11/dist-packages (from sympy==1.13.1->torch) (1.3.0)\n",
            "Requirement already satisfied: six>=1.5 in /usr/local/lib/python3.11/dist-packages (from python-dateutil>=2.7->matplotlib) (1.17.0)\n",
            "Requirement already satisfied: MarkupSafe>=2.0 in /usr/local/lib/python3.11/dist-packages (from jinja2->torch) (3.0.2)\n"
          ]
        }
      ],
      "source": [
        "pip install numpy scipy matplotlib scikit-learn torch torchvision h5py"
      ]
    },
    {
      "cell_type": "code",
      "source": [
        "import scipy.io as sio\n",
        "import numpy as np"
      ],
      "metadata": {
        "id": "CtlcgjvGZNax"
      },
      "execution_count": null,
      "outputs": []
    },
    {
      "cell_type": "code",
      "source": [
        "!wget \"https://china.scidb.cn/download?fileId=e92e5dcac193d006e9dfd8096fb005ed&traceId=9407e6dc-2e78-4540-b69b-026c8437c143\" -O dataset1.zip\n"
      ],
      "metadata": {
        "colab": {
          "base_uri": "https://localhost:8080/"
        },
        "id": "o3-v3Y8Cg7Dk",
        "outputId": "fca330f4-8251-44d3-8630-d45ba635e115"
      },
      "execution_count": null,
      "outputs": [
        {
          "output_type": "stream",
          "name": "stdout",
          "text": [
            "--2025-07-29 14:12:59--  https://china.scidb.cn/download?fileId=e92e5dcac193d006e9dfd8096fb005ed&traceId=9407e6dc-2e78-4540-b69b-026c8437c143\n",
            "Resolving china.scidb.cn (china.scidb.cn)... 60.245.194.35\n",
            "Connecting to china.scidb.cn (china.scidb.cn)|60.245.194.35|:443... connected.\n",
            "HTTP request sent, awaiting response... 200 OK\n",
            "Length: 132353385 (126M) [application/octet-stream]\n",
            "Saving to: ‘dataset1.zip’\n",
            "\n",
            "dataset1.zip        100%[===================>] 126.22M  11.2MB/s    in 17s     \n",
            "\n",
            "2025-07-29 14:13:18 (7.24 MB/s) - ‘dataset1.zip’ saved [132353385/132353385]\n",
            "\n"
          ]
        }
      ]
    },
    {
      "cell_type": "markdown",
      "source": [],
      "metadata": {
        "id": "lt0Gs4XXjFPq"
      }
    },
    {
      "cell_type": "code",
      "source": [
        "!unzip -o ./dataset1.zip -d ./dataset1"
      ],
      "metadata": {
        "colab": {
          "base_uri": "https://localhost:8080/"
        },
        "id": "zXHDPiHWoli6",
        "outputId": "5ecd53c7-d928-4a7b-d396-68f7a2a19529"
      },
      "execution_count": null,
      "outputs": [
        {
          "output_type": "stream",
          "name": "stdout",
          "text": [
            "Archive:  ./dataset1.zip\n",
            "   creating: ./dataset1/Dataset/Figure & data/\n",
            "   creating: ./dataset1/Dataset/Figure & data/3D_figure/\n",
            "   creating: ./dataset1/Dataset/Figure & data/3D_figure/graph/\n",
            "   creating: ./dataset1/Dataset/Figure & data/3D_figure/graph/filter/\n",
            "  inflating: ./dataset1/Dataset/Figure & data/3D_figure/graph/filter/CC.opju  \n",
            "  inflating: ./dataset1/Dataset/Figure & data/3D_figure/graph/filter/CC.tif  \n",
            "  inflating: ./dataset1/Dataset/Figure & data/3D_figure/graph/filter/debug.log  \n",
            "  inflating: ./dataset1/Dataset/Figure & data/3D_figure/graph/filter/FL.opju  \n",
            "  inflating: ./dataset1/Dataset/Figure & data/3D_figure/graph/filter/FL.tif  \n",
            "  inflating: ./dataset1/Dataset/Figure & data/3D_figure/graph/filter/PCNN.opju  \n",
            "  inflating: ./dataset1/Dataset/Figure & data/3D_figure/graph/filter/PCNN.tif  \n",
            "  inflating: ./dataset1/Dataset/Figure & data/3D_figure/graph/filter/VP.opju  \n",
            "  inflating: ./dataset1/Dataset/Figure & data/3D_figure/graph/filter/VP.tif  \n",
            "  inflating: ./dataset1/Dataset/Figure & data/3D_figure/graph/filter/ZC.opju  \n",
            "  inflating: ./dataset1/Dataset/Figure & data/3D_figure/graph/filter/ZC.tif  \n",
            "   creating: ./dataset1/Dataset/Figure & data/3D_figure/graph/without_filter/\n",
            "  inflating: ./dataset1/Dataset/Figure & data/3D_figure/graph/without_filter/CC.opju  \n",
            "  inflating: ./dataset1/Dataset/Figure & data/3D_figure/graph/without_filter/CC.tif  \n",
            " extracting: ./dataset1/Dataset/Figure & data/3D_figure/graph/without_filter/debug.log  \n",
            "  inflating: ./dataset1/Dataset/Figure & data/3D_figure/graph/without_filter/FGA.opju  \n",
            "  inflating: ./dataset1/Dataset/Figure & data/3D_figure/graph/without_filter/FGA.tif  \n",
            "  inflating: ./dataset1/Dataset/Figure & data/3D_figure/graph/without_filter/PCNN.opju  \n",
            "  inflating: ./dataset1/Dataset/Figure & data/3D_figure/graph/without_filter/PCNN.tif  \n",
            "  inflating: ./dataset1/Dataset/Figure & data/3D_figure/graph/without_filter/VP.opju  \n",
            "  inflating: ./dataset1/Dataset/Figure & data/3D_figure/graph/without_filter/VP.tif  \n",
            "  inflating: ./dataset1/Dataset/Figure & data/3D_figure/graph/without_filter/ZC.opju  \n",
            "  inflating: ./dataset1/Dataset/Figure & data/3D_figure/graph/without_filter/ZC.tif  \n",
            "  inflating: ./dataset1/Dataset/Figure & data/3D_figure/UNTITLED.opju  \n",
            "   creating: ./dataset1/Dataset/Figure & data/Figure of parameter/\n",
            "  inflating: ./dataset1/Dataset/Figure & data/Figure of parameter/ae.opju  \n",
            "  inflating: ./dataset1/Dataset/Figure & data/Figure of parameter/ae.tif  \n",
            "  inflating: ./dataset1/Dataset/Figure & data/Figure of parameter/af.opju  \n",
            "  inflating: ./dataset1/Dataset/Figure & data/Figure of parameter/af.tif  \n",
            "  inflating: ./dataset1/Dataset/Figure & data/Figure of parameter/al.opju  \n",
            "  inflating: ./dataset1/Dataset/Figure & data/Figure of parameter/al.tif  \n",
            "  inflating: ./dataset1/Dataset/Figure & data/Figure of parameter/beita.opju  \n",
            " extracting: ./dataset1/Dataset/Figure & data/Figure of parameter/debug.log  \n",
            "  inflating: ./dataset1/Dataset/Figure & data/Figure of parameter/M.tif  \n",
            "  inflating: ./dataset1/Dataset/Figure & data/Figure of parameter/parameter.pptx  \n",
            "  inflating: ./dataset1/Dataset/Figure & data/Figure of parameter/Ve.opju  \n",
            "  inflating: ./dataset1/Dataset/Figure & data/Figure of parameter/Ve.tif  \n",
            "  inflating: ./dataset1/Dataset/Figure & data/Figure of parameter/W.opju  \n",
            "  inflating: ./dataset1/Dataset/Figure & data/Figure of parameter/ж┬.tif  \n",
            "   creating: ./dataset1/Dataset/Figure & data/MAT_data/\n",
            "   creating: ./dataset1/Dataset/Figure & data/MAT_data/filter/\n",
            "  inflating: ./dataset1/Dataset/Figure & data/MAT_data/filter/falledge.mat  \n",
            "  inflating: ./dataset1/Dataset/Figure & data/MAT_data/filter/PCNN0.mat  \n",
            "  inflating: ./dataset1/Dataset/Figure & data/MAT_data/filter/peak.mat  \n",
            "  inflating: ./dataset1/Dataset/Figure & data/MAT_data/filter/RCC.mat  \n",
            "  inflating: ./dataset1/Dataset/Figure & data/MAT_data/filter/VP.mat  \n",
            "  inflating: ./dataset1/Dataset/Figure & data/MAT_data/filter/ZC.mat  \n",
            "  inflating: ./dataset1/Dataset/Figure & data/MAT_data/peak.mat  \n",
            "   creating: ./dataset1/Dataset/Figure & data/MAT_data/without_filter_mat/\n",
            "  inflating: ./dataset1/Dataset/Figure & data/MAT_data/without_filter_mat/CC.mat  \n",
            "  inflating: ./dataset1/Dataset/Figure & data/MAT_data/without_filter_mat/FGA(flip).mat  \n",
            "  inflating: ./dataset1/Dataset/Figure & data/MAT_data/without_filter_mat/FGA.mat  \n",
            "  inflating: ./dataset1/Dataset/Figure & data/MAT_data/without_filter_mat/PCNN.mat  \n",
            "  inflating: ./dataset1/Dataset/Figure & data/MAT_data/without_filter_mat/VPD.mat  \n",
            "  inflating: ./dataset1/Dataset/Figure & data/MAT_data/without_filter_mat/ZC.mat  \n",
            "   creating: ./dataset1/Dataset/Figure & data/Noise annalysis/\n",
            "   creating: ./dataset1/Dataset/Figure & data/Noise annalysis/filter/\n",
            " extracting: ./dataset1/Dataset/Figure & data/Noise annalysis/filter/debug.log  \n",
            "  inflating: ./dataset1/Dataset/Figure & data/Noise annalysis/filter/filter_fluctuations_in_FoM.tif  \n",
            "  inflating: ./dataset1/Dataset/Figure & data/Noise annalysis/filter/filter_FoM-value.opju  \n",
            "  inflating: ./dataset1/Dataset/Figure & data/Noise annalysis/filter/filter_FoM-value.tif  \n",
            "  inflating: ./dataset1/Dataset/Figure & data/Noise annalysis/filter/filter_FoM-value_flutuations.pptx  \n",
            "  inflating: ./dataset1/Dataset/Figure & data/Noise annalysis/filter/filter_fulctuations_in_FoM.opju  \n",
            "   creating: ./dataset1/Dataset/Figure & data/Noise annalysis/without_filter/\n",
            " extracting: ./dataset1/Dataset/Figure & data/Noise annalysis/without_filter/debug.log  \n",
            "  inflating: ./dataset1/Dataset/Figure & data/Noise annalysis/without_filter/without_filter_fluctuations_in_FoM-value.tif  \n",
            "  inflating: ./dataset1/Dataset/Figure & data/Noise annalysis/without_filter/without_filter_flutuation_in_FoM-value.opju  \n",
            "  inflating: ./dataset1/Dataset/Figure & data/Noise annalysis/without_filter/without_filter_FoM-value.opju  \n",
            "  inflating: ./dataset1/Dataset/Figure & data/Noise annalysis/without_filter/without_filter_FoM-value.tif  \n",
            "  inflating: ./dataset1/Dataset/Figure & data/Noise annalysis/without_filter/without_filter_FoM-value_flutuations.pptx  \n",
            "   creating: ./dataset1/Dataset/PCNN_Program/\n",
            "  inflating: ./dataset1/Dataset/PCNN_Program/Double_Gaussian_fitting.m  \n",
            "  inflating: ./dataset1/Dataset/PCNN_Program/main.m  \n",
            "  inflating: ./dataset1/Dataset/PCNN_Program/nomalizedDATA.txt  \n",
            "  inflating: ./dataset1/Dataset/PCNN_Program/PCNN.m  \n"
          ]
        }
      ]
    },
    {
      "cell_type": "code",
      "source": [
        "!ls\n"
      ],
      "metadata": {
        "colab": {
          "base_uri": "https://localhost:8080/"
        },
        "id": "JEprv0VXo5-D",
        "outputId": "80b865df-f6a7-46c2-f2d0-f2dbb6b7d902"
      },
      "execution_count": null,
      "outputs": [
        {
          "output_type": "stream",
          "name": "stdout",
          "text": [
            "dataset1  dataset1.zip\tsample_data\n"
          ]
        }
      ]
    },
    {
      "cell_type": "code",
      "source": [
        "# Load the .mat file\n",
        "data = sio.loadmat('./dataset1/Dataset/Figure & data/MAT_data/filter/peak.mat')\n",
        "\n",
        "# List the keys in the loaded dictionary\n",
        "print(data.keys())"
      ],
      "metadata": {
        "colab": {
          "base_uri": "https://localhost:8080/"
        },
        "id": "c8j16m4pvcKt",
        "outputId": "491fd425-5683-409d-dca5-9562b7d2b26f"
      },
      "execution_count": null,
      "outputs": [
        {
          "output_type": "stream",
          "name": "stdout",
          "text": [
            "dict_keys(['__header__', '__version__', '__globals__', 'T'])\n"
          ]
        }
      ]
    },
    {
      "cell_type": "code",
      "source": [
        "\n",
        "T = data['T']\n",
        "print(type(T))\n",
        "print(T.shape)  # shape of the array\n",
        "print(T[:5])    # print first 5 elements or rows"
      ],
      "metadata": {
        "colab": {
          "base_uri": "https://localhost:8080/"
        },
        "id": "iJdSVRUyvwg_",
        "outputId": "8a63a40e-66b5-44e7-d323-38a279c75591"
      },
      "execution_count": null,
      "outputs": [
        {
          "output_type": "stream",
          "name": "stdout",
          "text": [
            "<class 'numpy.ndarray'>\n",
            "(9414, 1)\n",
            "[[0.5501296]\n",
            " [0.5794296]\n",
            " [0.5501296]\n",
            " [0.5403648]\n",
            " [0.5696596]]\n"
          ]
        }
      ]
    },
    {
      "cell_type": "code",
      "source": [
        "#plot some data\n"
      ],
      "metadata": {
        "id": "5Rx6gyLawji2"
      },
      "execution_count": null,
      "outputs": []
    },
    {
      "cell_type": "code",
      "source": [
        "#Label the signals"
      ],
      "metadata": {
        "id": "atL-H64PwfIR"
      },
      "execution_count": null,
      "outputs": []
    }
  ]
}